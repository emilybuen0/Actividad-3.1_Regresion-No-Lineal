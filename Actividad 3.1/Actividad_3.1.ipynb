{
 "cells": [
  {
   "cell_type": "code",
   "execution_count": 1,
   "id": "2e3eb603",
   "metadata": {},
   "outputs": [],
   "source": [
    "import numpy as np\n",
    "import matplotlib.pyplot as plt\n",
    "import scipy.special as special\n",
    "from scipy.optimize import curve_fit\n",
    "import seaborn as sns\n",
    "from sklearn.metrics import r2_score\n",
    "import pandas as pd"
   ]
  },
  {
   "cell_type": "code",
   "execution_count": 2,
   "id": "b22230a4",
   "metadata": {},
   "outputs": [
    {
     "data": {
      "text/html": [
       "<div>\n",
       "<style scoped>\n",
       "    .dataframe tbody tr th:only-of-type {\n",
       "        vertical-align: middle;\n",
       "    }\n",
       "\n",
       "    .dataframe tbody tr th {\n",
       "        vertical-align: top;\n",
       "    }\n",
       "\n",
       "    .dataframe thead th {\n",
       "        text-align: right;\n",
       "    }\n",
       "</style>\n",
       "<table border=\"1\" class=\"dataframe\">\n",
       "  <thead>\n",
       "    <tr style=\"text-align: right;\">\n",
       "      <th></th>\n",
       "      <th>id</th>\n",
       "      <th>source</th>\n",
       "      <th>host_id</th>\n",
       "      <th>host_name</th>\n",
       "      <th>host_since</th>\n",
       "      <th>host_location</th>\n",
       "      <th>host_response_time</th>\n",
       "      <th>host_response_rate</th>\n",
       "      <th>host_acceptance_rate</th>\n",
       "      <th>host_is_superhost</th>\n",
       "      <th>...</th>\n",
       "      <th>first_review</th>\n",
       "      <th>last_review</th>\n",
       "      <th>review_scores_rating</th>\n",
       "      <th>review_scores_accuracy</th>\n",
       "      <th>instant_bookable</th>\n",
       "      <th>calculated_host_listings_count</th>\n",
       "      <th>calculated_host_listings_count_entire_homes</th>\n",
       "      <th>calculated_host_listings_count_private_rooms</th>\n",
       "      <th>calculated_host_listings_count_shared_rooms</th>\n",
       "      <th>reviews_per_month</th>\n",
       "    </tr>\n",
       "  </thead>\n",
       "  <tbody>\n",
       "    <tr>\n",
       "      <th>0</th>\n",
       "      <td>103760</td>\n",
       "      <td>city scrape</td>\n",
       "      <td>304876</td>\n",
       "      <td>Brendan</td>\n",
       "      <td>30/11/2010</td>\n",
       "      <td>Hong Kong</td>\n",
       "      <td>within a day</td>\n",
       "      <td>100%</td>\n",
       "      <td>69%</td>\n",
       "      <td>f</td>\n",
       "      <td>...</td>\n",
       "      <td>19/06/2011</td>\n",
       "      <td>13/02/2024</td>\n",
       "      <td>4.47</td>\n",
       "      <td>4.40</td>\n",
       "      <td>f</td>\n",
       "      <td>6</td>\n",
       "      <td>2</td>\n",
       "      <td>4</td>\n",
       "      <td>0</td>\n",
       "      <td>1.92</td>\n",
       "    </tr>\n",
       "    <tr>\n",
       "      <th>1</th>\n",
       "      <td>248140</td>\n",
       "      <td>previous scrape</td>\n",
       "      <td>1300549</td>\n",
       "      <td>Darren</td>\n",
       "      <td>17/10/2011</td>\n",
       "      <td>Hong Kong</td>\n",
       "      <td>within an hour</td>\n",
       "      <td>100%</td>\n",
       "      <td>81%</td>\n",
       "      <td>f</td>\n",
       "      <td>...</td>\n",
       "      <td>30/10/2011</td>\n",
       "      <td>06/12/2024</td>\n",
       "      <td>4.90</td>\n",
       "      <td>4.91</td>\n",
       "      <td>f</td>\n",
       "      <td>1</td>\n",
       "      <td>1</td>\n",
       "      <td>0</td>\n",
       "      <td>0</td>\n",
       "      <td>1.37</td>\n",
       "    </tr>\n",
       "    <tr>\n",
       "      <th>2</th>\n",
       "      <td>263081</td>\n",
       "      <td>city scrape</td>\n",
       "      <td>1370155</td>\n",
       "      <td>Chuster</td>\n",
       "      <td>04/11/2011</td>\n",
       "      <td>Hong Kong</td>\n",
       "      <td>within a few hours</td>\n",
       "      <td>100%</td>\n",
       "      <td>NaN</td>\n",
       "      <td>f</td>\n",
       "      <td>...</td>\n",
       "      <td>NaN</td>\n",
       "      <td>NaN</td>\n",
       "      <td>NaN</td>\n",
       "      <td>NaN</td>\n",
       "      <td>f</td>\n",
       "      <td>1</td>\n",
       "      <td>0</td>\n",
       "      <td>1</td>\n",
       "      <td>0</td>\n",
       "      <td>NaN</td>\n",
       "    </tr>\n",
       "    <tr>\n",
       "      <th>3</th>\n",
       "      <td>274589</td>\n",
       "      <td>city scrape</td>\n",
       "      <td>1435069</td>\n",
       "      <td>Shanshan</td>\n",
       "      <td>23/11/2011</td>\n",
       "      <td>Hong Kong</td>\n",
       "      <td>within a day</td>\n",
       "      <td>100%</td>\n",
       "      <td>86%</td>\n",
       "      <td>t</td>\n",
       "      <td>...</td>\n",
       "      <td>16/12/2011</td>\n",
       "      <td>02/11/2024</td>\n",
       "      <td>4.77</td>\n",
       "      <td>4.76</td>\n",
       "      <td>f</td>\n",
       "      <td>1</td>\n",
       "      <td>1</td>\n",
       "      <td>0</td>\n",
       "      <td>0</td>\n",
       "      <td>1.90</td>\n",
       "    </tr>\n",
       "    <tr>\n",
       "      <th>4</th>\n",
       "      <td>280746</td>\n",
       "      <td>city scrape</td>\n",
       "      <td>1443229</td>\n",
       "      <td>Shan</td>\n",
       "      <td>26/11/2011</td>\n",
       "      <td>Hong Kong</td>\n",
       "      <td>within a few hours</td>\n",
       "      <td>100%</td>\n",
       "      <td>88%</td>\n",
       "      <td>f</td>\n",
       "      <td>...</td>\n",
       "      <td>21/04/2012</td>\n",
       "      <td>06/12/2024</td>\n",
       "      <td>4.25</td>\n",
       "      <td>4.20</td>\n",
       "      <td>t</td>\n",
       "      <td>2</td>\n",
       "      <td>2</td>\n",
       "      <td>0</td>\n",
       "      <td>0</td>\n",
       "      <td>0.36</td>\n",
       "    </tr>\n",
       "  </tbody>\n",
       "</table>\n",
       "<p>5 rows × 50 columns</p>\n",
       "</div>"
      ],
      "text/plain": [
       "       id           source  host_id host_name  host_since host_location  \\\n",
       "0  103760      city scrape   304876   Brendan  30/11/2010     Hong Kong   \n",
       "1  248140  previous scrape  1300549    Darren  17/10/2011     Hong Kong   \n",
       "2  263081      city scrape  1370155   Chuster  04/11/2011     Hong Kong   \n",
       "3  274589      city scrape  1435069  Shanshan  23/11/2011     Hong Kong   \n",
       "4  280746      city scrape  1443229      Shan  26/11/2011     Hong Kong   \n",
       "\n",
       "   host_response_time host_response_rate host_acceptance_rate  \\\n",
       "0        within a day               100%                  69%   \n",
       "1      within an hour               100%                  81%   \n",
       "2  within a few hours               100%                  NaN   \n",
       "3        within a day               100%                  86%   \n",
       "4  within a few hours               100%                  88%   \n",
       "\n",
       "  host_is_superhost  ... first_review  last_review review_scores_rating  \\\n",
       "0                 f  ...   19/06/2011   13/02/2024                 4.47   \n",
       "1                 f  ...   30/10/2011   06/12/2024                 4.90   \n",
       "2                 f  ...          NaN          NaN                  NaN   \n",
       "3                 t  ...   16/12/2011   02/11/2024                 4.77   \n",
       "4                 f  ...   21/04/2012   06/12/2024                 4.25   \n",
       "\n",
       "  review_scores_accuracy instant_bookable calculated_host_listings_count  \\\n",
       "0                   4.40                f                              6   \n",
       "1                   4.91                f                              1   \n",
       "2                    NaN                f                              1   \n",
       "3                   4.76                f                              1   \n",
       "4                   4.20                t                              2   \n",
       "\n",
       "  calculated_host_listings_count_entire_homes  \\\n",
       "0                                           2   \n",
       "1                                           1   \n",
       "2                                           0   \n",
       "3                                           1   \n",
       "4                                           2   \n",
       "\n",
       "  calculated_host_listings_count_private_rooms  \\\n",
       "0                                            4   \n",
       "1                                            0   \n",
       "2                                            1   \n",
       "3                                            0   \n",
       "4                                            0   \n",
       "\n",
       "   calculated_host_listings_count_shared_rooms  reviews_per_month  \n",
       "0                                            0               1.92  \n",
       "1                                            0               1.37  \n",
       "2                                            0                NaN  \n",
       "3                                            0               1.90  \n",
       "4                                            0               0.36  \n",
       "\n",
       "[5 rows x 50 columns]"
      ]
     },
     "execution_count": 2,
     "metadata": {},
     "output_type": "execute_result"
    }
   ],
   "source": [
    "data_sucio = pd.read_csv('ChinaData.csv')\n",
    "data_sucio.head(5)"
   ]
  },
  {
   "cell_type": "code",
   "execution_count": 3,
   "id": "032a8db5",
   "metadata": {},
   "outputs": [
    {
     "name": "stdout",
     "output_type": "stream",
     "text": [
      "<class 'pandas.core.frame.DataFrame'>\n",
      "RangeIndex: 6718 entries, 0 to 6717\n",
      "Data columns (total 50 columns):\n",
      " #   Column                                        Non-Null Count  Dtype  \n",
      "---  ------                                        --------------  -----  \n",
      " 0   id                                            6718 non-null   int64  \n",
      " 1   source                                        6718 non-null   object \n",
      " 2   host_id                                       6718 non-null   int64  \n",
      " 3   host_name                                     6718 non-null   object \n",
      " 4   host_since                                    6718 non-null   object \n",
      " 5   host_location                                 4431 non-null   object \n",
      " 6   host_response_time                            6401 non-null   object \n",
      " 7   host_response_rate                            6401 non-null   object \n",
      " 8   host_acceptance_rate                          6475 non-null   object \n",
      " 9   host_is_superhost                             6641 non-null   object \n",
      " 10  host_neighbourhood                            6435 non-null   object \n",
      " 11  host_total_listings_count                     6718 non-null   int64  \n",
      " 12  host_verifications                            6718 non-null   object \n",
      " 13  host_identity_verified                        6718 non-null   object \n",
      " 14  neighbourhood                                 1678 non-null   object \n",
      " 15  neighbourhood_cleansed                        6718 non-null   object \n",
      " 16  property_type                                 6718 non-null   object \n",
      " 17  room_type                                     6718 non-null   object \n",
      " 18  accommodates                                  6718 non-null   int64  \n",
      " 19  bathrooms                                     5583 non-null   float64\n",
      " 20  bathrooms_text                                6701 non-null   object \n",
      " 21  bedrooms                                      6347 non-null   float64\n",
      " 22  beds                                          5575 non-null   float64\n",
      " 23  amenities                                     6718 non-null   object \n",
      " 24  price                                         5594 non-null   object \n",
      " 25  minimum_nights                                6718 non-null   int64  \n",
      " 26  maximum_nights                                6718 non-null   int64  \n",
      " 27  minimum_minimum_nights                        6718 non-null   int64  \n",
      " 28  maximum_minimum_nights                        6718 non-null   int64  \n",
      " 29  minimum_maximum_nights                        6718 non-null   int64  \n",
      " 30  maximum_maximum_nights                        6718 non-null   int64  \n",
      " 31  minimum_nights_avg_ntm                        6718 non-null   float64\n",
      " 32  maximum_nights_avg_ntm                        6718 non-null   float64\n",
      " 33  availability_30                               6718 non-null   int64  \n",
      " 34  availability_60                               6718 non-null   int64  \n",
      " 35  availability_90                               6718 non-null   int64  \n",
      " 36  availability_365                              6718 non-null   int64  \n",
      " 37  number_of_reviews                             6718 non-null   int64  \n",
      " 38  number_of_reviews_ltm                         6718 non-null   int64  \n",
      " 39  number_of_reviews_l30d                        6718 non-null   int64  \n",
      " 40  first_review                                  3467 non-null   object \n",
      " 41  last_review                                   3467 non-null   object \n",
      " 42  review_scores_rating                          3467 non-null   float64\n",
      " 43  review_scores_accuracy                        3467 non-null   float64\n",
      " 44  instant_bookable                              6718 non-null   object \n",
      " 45  calculated_host_listings_count                6718 non-null   int64  \n",
      " 46  calculated_host_listings_count_entire_homes   6718 non-null   int64  \n",
      " 47  calculated_host_listings_count_private_rooms  6718 non-null   int64  \n",
      " 48  calculated_host_listings_count_shared_rooms   6718 non-null   int64  \n",
      " 49  reviews_per_month                             3467 non-null   float64\n",
      "dtypes: float64(8), int64(21), object(21)\n",
      "memory usage: 2.6+ MB\n"
     ]
    }
   ],
   "source": [
    "data_sucio.info()"
   ]
  },
  {
   "cell_type": "markdown",
   "id": "bd59c067",
   "metadata": {},
   "source": [
    "## Limpieza de Datos Nulos"
   ]
  },
  {
   "cell_type": "code",
   "execution_count": 4,
   "id": "5c8214bb",
   "metadata": {},
   "outputs": [
    {
     "name": "stdout",
     "output_type": "stream",
     "text": [
      "<class 'pandas.core.frame.DataFrame'>\n",
      "RangeIndex: 6718 entries, 0 to 6717\n",
      "Data columns (total 21 columns):\n",
      " #   Column                  Non-Null Count  Dtype \n",
      "---  ------                  --------------  ----- \n",
      " 0   source                  6718 non-null   object\n",
      " 1   host_name               6718 non-null   object\n",
      " 2   host_since              6718 non-null   object\n",
      " 3   host_location           4431 non-null   object\n",
      " 4   host_response_time      6401 non-null   object\n",
      " 5   host_response_rate      6401 non-null   object\n",
      " 6   host_acceptance_rate    6475 non-null   object\n",
      " 7   host_is_superhost       6641 non-null   object\n",
      " 8   host_neighbourhood      6435 non-null   object\n",
      " 9   host_verifications      6718 non-null   object\n",
      " 10  host_identity_verified  6718 non-null   object\n",
      " 11  neighbourhood           1678 non-null   object\n",
      " 12  neighbourhood_cleansed  6718 non-null   object\n",
      " 13  property_type           6718 non-null   object\n",
      " 14  room_type               6718 non-null   object\n",
      " 15  bathrooms_text          6701 non-null   object\n",
      " 16  amenities               6718 non-null   object\n",
      " 17  price                   5594 non-null   object\n",
      " 18  first_review            3467 non-null   object\n",
      " 19  last_review             3467 non-null   object\n",
      " 20  instant_bookable        6718 non-null   object\n",
      "dtypes: object(21)\n",
      "memory usage: 1.1+ MB\n",
      "<class 'pandas.core.frame.DataFrame'>\n",
      "RangeIndex: 6718 entries, 0 to 6717\n",
      "Data columns (total 29 columns):\n",
      " #   Column                                        Non-Null Count  Dtype  \n",
      "---  ------                                        --------------  -----  \n",
      " 0   id                                            6718 non-null   int64  \n",
      " 1   host_id                                       6718 non-null   int64  \n",
      " 2   host_total_listings_count                     6718 non-null   int64  \n",
      " 3   accommodates                                  6718 non-null   int64  \n",
      " 4   bathrooms                                     5583 non-null   float64\n",
      " 5   bedrooms                                      6347 non-null   float64\n",
      " 6   beds                                          5575 non-null   float64\n",
      " 7   minimum_nights                                6718 non-null   int64  \n",
      " 8   maximum_nights                                6718 non-null   int64  \n",
      " 9   minimum_minimum_nights                        6718 non-null   int64  \n",
      " 10  maximum_minimum_nights                        6718 non-null   int64  \n",
      " 11  minimum_maximum_nights                        6718 non-null   int64  \n",
      " 12  maximum_maximum_nights                        6718 non-null   int64  \n",
      " 13  minimum_nights_avg_ntm                        6718 non-null   float64\n",
      " 14  maximum_nights_avg_ntm                        6718 non-null   float64\n",
      " 15  availability_30                               6718 non-null   int64  \n",
      " 16  availability_60                               6718 non-null   int64  \n",
      " 17  availability_90                               6718 non-null   int64  \n",
      " 18  availability_365                              6718 non-null   int64  \n",
      " 19  number_of_reviews                             6718 non-null   int64  \n",
      " 20  number_of_reviews_ltm                         6718 non-null   int64  \n",
      " 21  number_of_reviews_l30d                        6718 non-null   int64  \n",
      " 22  review_scores_rating                          3467 non-null   float64\n",
      " 23  review_scores_accuracy                        3467 non-null   float64\n",
      " 24  calculated_host_listings_count                6718 non-null   int64  \n",
      " 25  calculated_host_listings_count_entire_homes   6718 non-null   int64  \n",
      " 26  calculated_host_listings_count_private_rooms  6718 non-null   int64  \n",
      " 27  calculated_host_listings_count_shared_rooms   6718 non-null   int64  \n",
      " 28  reviews_per_month                             3467 non-null   float64\n",
      "dtypes: float64(8), int64(21)\n",
      "memory usage: 1.5 MB\n"
     ]
    }
   ],
   "source": [
    "data_cuanti=data_sucio.select_dtypes(include=[\"float64\",\"int64\",\"float\",\"int\"])\n",
    "data_cuali=data_sucio.select_dtypes(include=[\"object\",\"datetime\",\"category\",\"datetime64[ns]\"])\n",
    "data_cuali.info()\n",
    "data_cuanti.info(5)"
   ]
  },
  {
   "cell_type": "code",
   "execution_count": 5,
   "id": "e9803b12",
   "metadata": {},
   "outputs": [
    {
     "name": "stderr",
     "output_type": "stream",
     "text": [
      "C:\\Users\\B_3mi\\AppData\\Local\\Temp\\ipykernel_15436\\3072049572.py:1: FutureWarning: DataFrame.fillna with 'method' is deprecated and will raise in a future version. Use obj.ffill() or obj.bfill() instead.\n",
      "  cualis_bfill=data_cuali.fillna(method=\"bfill\").fillna(method=\"ffill\")\n",
      "C:\\Users\\B_3mi\\AppData\\Local\\Temp\\ipykernel_15436\\3072049572.py:2: FutureWarning: DataFrame.fillna with 'method' is deprecated and will raise in a future version. Use obj.ffill() or obj.bfill() instead.\n",
      "  cualis_ffill=data_cuali.fillna(method=\"ffill\").fillna(method=\"bfill\")\n"
     ]
    },
    {
     "data": {
      "text/html": [
       "<div>\n",
       "<style scoped>\n",
       "    .dataframe tbody tr th:only-of-type {\n",
       "        vertical-align: middle;\n",
       "    }\n",
       "\n",
       "    .dataframe tbody tr th {\n",
       "        vertical-align: top;\n",
       "    }\n",
       "\n",
       "    .dataframe thead th {\n",
       "        text-align: right;\n",
       "    }\n",
       "</style>\n",
       "<table border=\"1\" class=\"dataframe\">\n",
       "  <thead>\n",
       "    <tr style=\"text-align: right;\">\n",
       "      <th></th>\n",
       "      <th>id</th>\n",
       "      <th>host_id</th>\n",
       "      <th>host_total_listings_count</th>\n",
       "      <th>accommodates</th>\n",
       "      <th>bathrooms</th>\n",
       "      <th>bedrooms</th>\n",
       "      <th>beds</th>\n",
       "      <th>minimum_nights</th>\n",
       "      <th>maximum_nights</th>\n",
       "      <th>minimum_minimum_nights</th>\n",
       "      <th>...</th>\n",
       "      <th>neighbourhood</th>\n",
       "      <th>neighbourhood_cleansed</th>\n",
       "      <th>property_type</th>\n",
       "      <th>room_type</th>\n",
       "      <th>bathrooms_text</th>\n",
       "      <th>amenities</th>\n",
       "      <th>price</th>\n",
       "      <th>first_review</th>\n",
       "      <th>last_review</th>\n",
       "      <th>instant_bookable</th>\n",
       "    </tr>\n",
       "  </thead>\n",
       "  <tbody>\n",
       "    <tr>\n",
       "      <th>0</th>\n",
       "      <td>103760</td>\n",
       "      <td>304876</td>\n",
       "      <td>59</td>\n",
       "      <td>6</td>\n",
       "      <td>1.0</td>\n",
       "      <td>2.0</td>\n",
       "      <td>3.0</td>\n",
       "      <td>28</td>\n",
       "      <td>1125</td>\n",
       "      <td>28</td>\n",
       "      <td>...</td>\n",
       "      <td>Sheung Wan, Hong Kong</td>\n",
       "      <td>Central &amp; Western</td>\n",
       "      <td>Entire rental unit</td>\n",
       "      <td>Entire home/apt</td>\n",
       "      <td>1 bath</td>\n",
       "      <td>[\"Self check-in\", \"Wifi\", \"AC - split type duc...</td>\n",
       "      <td>$1,120.00</td>\n",
       "      <td>19/06/2011</td>\n",
       "      <td>13/02/2024</td>\n",
       "      <td>f</td>\n",
       "    </tr>\n",
       "    <tr>\n",
       "      <th>1</th>\n",
       "      <td>248140</td>\n",
       "      <td>1300549</td>\n",
       "      <td>1</td>\n",
       "      <td>2</td>\n",
       "      <td>1.2</td>\n",
       "      <td>1.0</td>\n",
       "      <td>1.6</td>\n",
       "      <td>30</td>\n",
       "      <td>150</td>\n",
       "      <td>30</td>\n",
       "      <td>...</td>\n",
       "      <td>Sheung Wan, Hong Kong</td>\n",
       "      <td>Central &amp; Western</td>\n",
       "      <td>Entire rental unit</td>\n",
       "      <td>Entire home/apt</td>\n",
       "      <td>1 bath</td>\n",
       "      <td>[\"Hot water kettle\", \"Wifi\", \"Room-darkening s...</td>\n",
       "      <td>$1,120.00</td>\n",
       "      <td>30/10/2011</td>\n",
       "      <td>06/12/2024</td>\n",
       "      <td>f</td>\n",
       "    </tr>\n",
       "    <tr>\n",
       "      <th>2</th>\n",
       "      <td>263081</td>\n",
       "      <td>1370155</td>\n",
       "      <td>1</td>\n",
       "      <td>8</td>\n",
       "      <td>2.5</td>\n",
       "      <td>3.0</td>\n",
       "      <td>6.0</td>\n",
       "      <td>10</td>\n",
       "      <td>30</td>\n",
       "      <td>10</td>\n",
       "      <td>...</td>\n",
       "      <td>Mid-level, Hong Kong</td>\n",
       "      <td>Central &amp; Western</td>\n",
       "      <td>Private room in rental unit</td>\n",
       "      <td>Private room</td>\n",
       "      <td>2.5 baths</td>\n",
       "      <td>[\"Elevator\", \"Children\\u2019s dinnerware\", \"Ex...</td>\n",
       "      <td>$22,215.00</td>\n",
       "      <td>30/10/2011</td>\n",
       "      <td>06/12/2024</td>\n",
       "      <td>f</td>\n",
       "    </tr>\n",
       "    <tr>\n",
       "      <th>3</th>\n",
       "      <td>274589</td>\n",
       "      <td>1435069</td>\n",
       "      <td>1</td>\n",
       "      <td>4</td>\n",
       "      <td>1.0</td>\n",
       "      <td>2.0</td>\n",
       "      <td>3.0</td>\n",
       "      <td>28</td>\n",
       "      <td>365</td>\n",
       "      <td>3</td>\n",
       "      <td>...</td>\n",
       "      <td>Mid-level, Hong Kong</td>\n",
       "      <td>Wan Chai</td>\n",
       "      <td>Entire rental unit</td>\n",
       "      <td>Entire home/apt</td>\n",
       "      <td>1 bath</td>\n",
       "      <td>[\"Stove\", \"Wifi\", \"Clothing storage: wardrobe\"...</td>\n",
       "      <td>$1,477.00</td>\n",
       "      <td>16/12/2011</td>\n",
       "      <td>02/11/2024</td>\n",
       "      <td>f</td>\n",
       "    </tr>\n",
       "    <tr>\n",
       "      <th>4</th>\n",
       "      <td>280746</td>\n",
       "      <td>1443229</td>\n",
       "      <td>19</td>\n",
       "      <td>6</td>\n",
       "      <td>2.0</td>\n",
       "      <td>3.0</td>\n",
       "      <td>3.0</td>\n",
       "      <td>3</td>\n",
       "      <td>365</td>\n",
       "      <td>3</td>\n",
       "      <td>...</td>\n",
       "      <td>Mid-level, Hong Kong</td>\n",
       "      <td>Yuen Long</td>\n",
       "      <td>Entire rental unit</td>\n",
       "      <td>Entire home/apt</td>\n",
       "      <td>2 baths</td>\n",
       "      <td>[\"Stove\", \"Self check-in\", \"Hot water kettle\",...</td>\n",
       "      <td>$1,011.00</td>\n",
       "      <td>21/04/2012</td>\n",
       "      <td>06/12/2024</td>\n",
       "      <td>t</td>\n",
       "    </tr>\n",
       "    <tr>\n",
       "      <th>...</th>\n",
       "      <td>...</td>\n",
       "      <td>...</td>\n",
       "      <td>...</td>\n",
       "      <td>...</td>\n",
       "      <td>...</td>\n",
       "      <td>...</td>\n",
       "      <td>...</td>\n",
       "      <td>...</td>\n",
       "      <td>...</td>\n",
       "      <td>...</td>\n",
       "      <td>...</td>\n",
       "      <td>...</td>\n",
       "      <td>...</td>\n",
       "      <td>...</td>\n",
       "      <td>...</td>\n",
       "      <td>...</td>\n",
       "      <td>...</td>\n",
       "      <td>...</td>\n",
       "      <td>...</td>\n",
       "      <td>...</td>\n",
       "      <td>...</td>\n",
       "    </tr>\n",
       "    <tr>\n",
       "      <th>6713</th>\n",
       "      <td>1305922079484820904</td>\n",
       "      <td>4209137</td>\n",
       "      <td>38</td>\n",
       "      <td>6</td>\n",
       "      <td>1.0</td>\n",
       "      <td>2.0</td>\n",
       "      <td>3.0</td>\n",
       "      <td>1</td>\n",
       "      <td>365</td>\n",
       "      <td>1</td>\n",
       "      <td>...</td>\n",
       "      <td>Hong Kong, Hong Kong Island, Hong Kong</td>\n",
       "      <td>Wan Chai</td>\n",
       "      <td>Entire rental unit</td>\n",
       "      <td>Entire home/apt</td>\n",
       "      <td>1 bath</td>\n",
       "      <td>[\"Stove\", \"Self check-in\", \"Hot water kettle\",...</td>\n",
       "      <td>$1,767.00</td>\n",
       "      <td>22/12/2024</td>\n",
       "      <td>22/12/2024</td>\n",
       "      <td>f</td>\n",
       "    </tr>\n",
       "    <tr>\n",
       "      <th>6714</th>\n",
       "      <td>1306173025771347835</td>\n",
       "      <td>57341318</td>\n",
       "      <td>1</td>\n",
       "      <td>2</td>\n",
       "      <td>1.0</td>\n",
       "      <td>1.0</td>\n",
       "      <td>1.0</td>\n",
       "      <td>1</td>\n",
       "      <td>365</td>\n",
       "      <td>1</td>\n",
       "      <td>...</td>\n",
       "      <td>Hong Kong, Hong Kong Island, Hong Kong</td>\n",
       "      <td>Central &amp; Western</td>\n",
       "      <td>Entire rental unit</td>\n",
       "      <td>Entire home/apt</td>\n",
       "      <td>1 bath</td>\n",
       "      <td>[\"Wifi\", \"First aid kit\", \"Carbon monoxide ala...</td>\n",
       "      <td>$626.00</td>\n",
       "      <td>22/12/2024</td>\n",
       "      <td>22/12/2024</td>\n",
       "      <td>f</td>\n",
       "    </tr>\n",
       "    <tr>\n",
       "      <th>6715</th>\n",
       "      <td>1306185405897992592</td>\n",
       "      <td>667730514</td>\n",
       "      <td>1</td>\n",
       "      <td>2</td>\n",
       "      <td>1.0</td>\n",
       "      <td>1.0</td>\n",
       "      <td>1.0</td>\n",
       "      <td>1</td>\n",
       "      <td>14</td>\n",
       "      <td>1</td>\n",
       "      <td>...</td>\n",
       "      <td>Hong Kong, Hong Kong Island, Hong Kong</td>\n",
       "      <td>Southern</td>\n",
       "      <td>Entire rental unit</td>\n",
       "      <td>Entire home/apt</td>\n",
       "      <td>1 bath</td>\n",
       "      <td>[\"TV\", \"Washer\", \"Wifi\", \"Pets allowed\", \"Dedi...</td>\n",
       "      <td>$528.00</td>\n",
       "      <td>22/12/2024</td>\n",
       "      <td>22/12/2024</td>\n",
       "      <td>t</td>\n",
       "    </tr>\n",
       "    <tr>\n",
       "      <th>6716</th>\n",
       "      <td>1306203936024566574</td>\n",
       "      <td>280827591</td>\n",
       "      <td>1</td>\n",
       "      <td>1</td>\n",
       "      <td>1.0</td>\n",
       "      <td>1.0</td>\n",
       "      <td>1.0</td>\n",
       "      <td>1</td>\n",
       "      <td>365</td>\n",
       "      <td>1</td>\n",
       "      <td>...</td>\n",
       "      <td>Hong Kong, Hong Kong Island, Hong Kong</td>\n",
       "      <td>Central &amp; Western</td>\n",
       "      <td>Private room in rental unit</td>\n",
       "      <td>Private room</td>\n",
       "      <td>1 shared bath</td>\n",
       "      <td>[\"Washer\", \"Wifi\", \"Dedicated workspace\", \"Pai...</td>\n",
       "      <td>$455.00</td>\n",
       "      <td>22/12/2024</td>\n",
       "      <td>22/12/2024</td>\n",
       "      <td>f</td>\n",
       "    </tr>\n",
       "    <tr>\n",
       "      <th>6717</th>\n",
       "      <td>1306227163822276938</td>\n",
       "      <td>668016531</td>\n",
       "      <td>1</td>\n",
       "      <td>2</td>\n",
       "      <td>8.0</td>\n",
       "      <td>1.2</td>\n",
       "      <td>8.0</td>\n",
       "      <td>1</td>\n",
       "      <td>365</td>\n",
       "      <td>1</td>\n",
       "      <td>...</td>\n",
       "      <td>Hong Kong, Hong Kong Island, Hong Kong</td>\n",
       "      <td>Yau Tsim Mong</td>\n",
       "      <td>Private room in serviced apartment</td>\n",
       "      <td>Private room</td>\n",
       "      <td>8 shared baths</td>\n",
       "      <td>[\"TV\", \"Exterior security cameras on property\"...</td>\n",
       "      <td>$321.00</td>\n",
       "      <td>22/12/2024</td>\n",
       "      <td>22/12/2024</td>\n",
       "      <td>f</td>\n",
       "    </tr>\n",
       "  </tbody>\n",
       "</table>\n",
       "<p>6718 rows × 50 columns</p>\n",
       "</div>"
      ],
      "text/plain": [
       "                       id    host_id  host_total_listings_count  accommodates  \\\n",
       "0                  103760     304876                         59             6   \n",
       "1                  248140    1300549                          1             2   \n",
       "2                  263081    1370155                          1             8   \n",
       "3                  274589    1435069                          1             4   \n",
       "4                  280746    1443229                         19             6   \n",
       "...                   ...        ...                        ...           ...   \n",
       "6713  1305922079484820904    4209137                         38             6   \n",
       "6714  1306173025771347835   57341318                          1             2   \n",
       "6715  1306185405897992592  667730514                          1             2   \n",
       "6716  1306203936024566574  280827591                          1             1   \n",
       "6717  1306227163822276938  668016531                          1             2   \n",
       "\n",
       "      bathrooms  bedrooms  beds  minimum_nights  maximum_nights  \\\n",
       "0           1.0       2.0   3.0              28            1125   \n",
       "1           1.2       1.0   1.6              30             150   \n",
       "2           2.5       3.0   6.0              10              30   \n",
       "3           1.0       2.0   3.0              28             365   \n",
       "4           2.0       3.0   3.0               3             365   \n",
       "...         ...       ...   ...             ...             ...   \n",
       "6713        1.0       2.0   3.0               1             365   \n",
       "6714        1.0       1.0   1.0               1             365   \n",
       "6715        1.0       1.0   1.0               1              14   \n",
       "6716        1.0       1.0   1.0               1             365   \n",
       "6717        8.0       1.2   8.0               1             365   \n",
       "\n",
       "      minimum_minimum_nights  ...                           neighbourhood  \\\n",
       "0                         28  ...                   Sheung Wan, Hong Kong   \n",
       "1                         30  ...                   Sheung Wan, Hong Kong   \n",
       "2                         10  ...                    Mid-level, Hong Kong   \n",
       "3                          3  ...                    Mid-level, Hong Kong   \n",
       "4                          3  ...                    Mid-level, Hong Kong   \n",
       "...                      ...  ...                                     ...   \n",
       "6713                       1  ...  Hong Kong, Hong Kong Island, Hong Kong   \n",
       "6714                       1  ...  Hong Kong, Hong Kong Island, Hong Kong   \n",
       "6715                       1  ...  Hong Kong, Hong Kong Island, Hong Kong   \n",
       "6716                       1  ...  Hong Kong, Hong Kong Island, Hong Kong   \n",
       "6717                       1  ...  Hong Kong, Hong Kong Island, Hong Kong   \n",
       "\n",
       "      neighbourhood_cleansed                       property_type  \\\n",
       "0          Central & Western                  Entire rental unit   \n",
       "1          Central & Western                  Entire rental unit   \n",
       "2          Central & Western         Private room in rental unit   \n",
       "3                   Wan Chai                  Entire rental unit   \n",
       "4                  Yuen Long                  Entire rental unit   \n",
       "...                      ...                                 ...   \n",
       "6713                Wan Chai                  Entire rental unit   \n",
       "6714       Central & Western                  Entire rental unit   \n",
       "6715                Southern                  Entire rental unit   \n",
       "6716       Central & Western         Private room in rental unit   \n",
       "6717           Yau Tsim Mong  Private room in serviced apartment   \n",
       "\n",
       "            room_type  bathrooms_text  \\\n",
       "0     Entire home/apt          1 bath   \n",
       "1     Entire home/apt          1 bath   \n",
       "2        Private room       2.5 baths   \n",
       "3     Entire home/apt          1 bath   \n",
       "4     Entire home/apt         2 baths   \n",
       "...               ...             ...   \n",
       "6713  Entire home/apt          1 bath   \n",
       "6714  Entire home/apt          1 bath   \n",
       "6715  Entire home/apt          1 bath   \n",
       "6716     Private room   1 shared bath   \n",
       "6717     Private room  8 shared baths   \n",
       "\n",
       "                                              amenities       price  \\\n",
       "0     [\"Self check-in\", \"Wifi\", \"AC - split type duc...   $1,120.00   \n",
       "1     [\"Hot water kettle\", \"Wifi\", \"Room-darkening s...   $1,120.00   \n",
       "2     [\"Elevator\", \"Children\\u2019s dinnerware\", \"Ex...  $22,215.00   \n",
       "3     [\"Stove\", \"Wifi\", \"Clothing storage: wardrobe\"...   $1,477.00   \n",
       "4     [\"Stove\", \"Self check-in\", \"Hot water kettle\",...   $1,011.00   \n",
       "...                                                 ...         ...   \n",
       "6713  [\"Stove\", \"Self check-in\", \"Hot water kettle\",...   $1,767.00   \n",
       "6714  [\"Wifi\", \"First aid kit\", \"Carbon monoxide ala...     $626.00   \n",
       "6715  [\"TV\", \"Washer\", \"Wifi\", \"Pets allowed\", \"Dedi...     $528.00   \n",
       "6716  [\"Washer\", \"Wifi\", \"Dedicated workspace\", \"Pai...     $455.00   \n",
       "6717  [\"TV\", \"Exterior security cameras on property\"...     $321.00   \n",
       "\n",
       "      first_review  last_review  instant_bookable  \n",
       "0       19/06/2011   13/02/2024                 f  \n",
       "1       30/10/2011   06/12/2024                 f  \n",
       "2       30/10/2011   06/12/2024                 f  \n",
       "3       16/12/2011   02/11/2024                 f  \n",
       "4       21/04/2012   06/12/2024                 t  \n",
       "...            ...          ...               ...  \n",
       "6713    22/12/2024   22/12/2024                 f  \n",
       "6714    22/12/2024   22/12/2024                 f  \n",
       "6715    22/12/2024   22/12/2024                 t  \n",
       "6716    22/12/2024   22/12/2024                 f  \n",
       "6717    22/12/2024   22/12/2024                 f  \n",
       "\n",
       "[6718 rows x 50 columns]"
      ]
     },
     "execution_count": 5,
     "metadata": {},
     "output_type": "execute_result"
    }
   ],
   "source": [
    "cualis_bfill=data_cuali.fillna(method=\"bfill\").fillna(method=\"ffill\")\n",
    "cualis_ffill=data_cuali.fillna(method=\"ffill\").fillna(method=\"bfill\")\n",
    "cuantias_mean=data_cuanti.fillna(round(data_cuanti.mean(),1))\n",
    "\n",
    "data_sin_nulos = pd.concat([cuantias_mean,cualis_ffill],axis=1)\n",
    "\n",
    "data_sin_nulos"
   ]
  },
  {
   "cell_type": "code",
   "execution_count": 6,
   "id": "8a009021",
   "metadata": {},
   "outputs": [
    {
     "name": "stdout",
     "output_type": "stream",
     "text": [
      "0\n"
     ]
    }
   ],
   "source": [
    "data=data_sin_nulos.isnull().sum().sum()\n",
    "print(data)"
   ]
  },
  {
   "cell_type": "markdown",
   "id": "69666bf6",
   "metadata": {},
   "source": [
    "## Limpieza de Outliers"
   ]
  },
  {
   "cell_type": "code",
   "execution_count": 7,
   "id": "0a4a8621",
   "metadata": {},
   "outputs": [
    {
     "data": {
      "text/html": [
       "<div>\n",
       "<style scoped>\n",
       "    .dataframe tbody tr th:only-of-type {\n",
       "        vertical-align: middle;\n",
       "    }\n",
       "\n",
       "    .dataframe tbody tr th {\n",
       "        vertical-align: top;\n",
       "    }\n",
       "\n",
       "    .dataframe thead th {\n",
       "        text-align: right;\n",
       "    }\n",
       "</style>\n",
       "<table border=\"1\" class=\"dataframe\">\n",
       "  <thead>\n",
       "    <tr style=\"text-align: right;\">\n",
       "      <th></th>\n",
       "      <th>source</th>\n",
       "      <th>host_name</th>\n",
       "      <th>host_since</th>\n",
       "      <th>host_location</th>\n",
       "      <th>host_response_time</th>\n",
       "      <th>host_response_rate</th>\n",
       "      <th>host_acceptance_rate</th>\n",
       "      <th>host_is_superhost</th>\n",
       "      <th>host_neighbourhood</th>\n",
       "      <th>host_verifications</th>\n",
       "      <th>...</th>\n",
       "      <th>number_of_reviews</th>\n",
       "      <th>number_of_reviews_ltm</th>\n",
       "      <th>number_of_reviews_l30d</th>\n",
       "      <th>review_scores_rating</th>\n",
       "      <th>review_scores_accuracy</th>\n",
       "      <th>calculated_host_listings_count</th>\n",
       "      <th>calculated_host_listings_count_entire_homes</th>\n",
       "      <th>calculated_host_listings_count_private_rooms</th>\n",
       "      <th>calculated_host_listings_count_shared_rooms</th>\n",
       "      <th>reviews_per_month</th>\n",
       "    </tr>\n",
       "  </thead>\n",
       "  <tbody>\n",
       "    <tr>\n",
       "      <th>0</th>\n",
       "      <td>city scrape</td>\n",
       "      <td>Brendan</td>\n",
       "      <td>30/11/2010</td>\n",
       "      <td>Hong Kong</td>\n",
       "      <td>within a day</td>\n",
       "      <td>100%</td>\n",
       "      <td>69%</td>\n",
       "      <td>f</td>\n",
       "      <td>Central</td>\n",
       "      <td>['email', 'phone']</td>\n",
       "      <td>...</td>\n",
       "      <td>316</td>\n",
       "      <td>3</td>\n",
       "      <td>0</td>\n",
       "      <td>NaN</td>\n",
       "      <td>NaN</td>\n",
       "      <td>6</td>\n",
       "      <td>2</td>\n",
       "      <td>4</td>\n",
       "      <td>0</td>\n",
       "      <td>1.92</td>\n",
       "    </tr>\n",
       "    <tr>\n",
       "      <th>1</th>\n",
       "      <td>previous scrape</td>\n",
       "      <td>Darren</td>\n",
       "      <td>17/10/2011</td>\n",
       "      <td>Hong Kong</td>\n",
       "      <td>within an hour</td>\n",
       "      <td>100%</td>\n",
       "      <td>81%</td>\n",
       "      <td>f</td>\n",
       "      <td>Sheung Wan</td>\n",
       "      <td>['email', 'phone']</td>\n",
       "      <td>...</td>\n",
       "      <td>220</td>\n",
       "      <td>23</td>\n",
       "      <td>2</td>\n",
       "      <td>NaN</td>\n",
       "      <td>NaN</td>\n",
       "      <td>1</td>\n",
       "      <td>1</td>\n",
       "      <td>0</td>\n",
       "      <td>0</td>\n",
       "      <td>1.37</td>\n",
       "    </tr>\n",
       "    <tr>\n",
       "      <th>2</th>\n",
       "      <td>city scrape</td>\n",
       "      <td>Chuster</td>\n",
       "      <td>04/11/2011</td>\n",
       "      <td>Hong Kong</td>\n",
       "      <td>within a few hours</td>\n",
       "      <td>100%</td>\n",
       "      <td>NaN</td>\n",
       "      <td>f</td>\n",
       "      <td>The Peak</td>\n",
       "      <td>['email', 'phone', 'work_email']</td>\n",
       "      <td>...</td>\n",
       "      <td>0</td>\n",
       "      <td>0</td>\n",
       "      <td>0</td>\n",
       "      <td>NaN</td>\n",
       "      <td>NaN</td>\n",
       "      <td>1</td>\n",
       "      <td>0</td>\n",
       "      <td>1</td>\n",
       "      <td>0</td>\n",
       "      <td>0.90</td>\n",
       "    </tr>\n",
       "    <tr>\n",
       "      <th>3</th>\n",
       "      <td>city scrape</td>\n",
       "      <td>Shanshan</td>\n",
       "      <td>23/11/2011</td>\n",
       "      <td>Hong Kong</td>\n",
       "      <td>within a day</td>\n",
       "      <td>100%</td>\n",
       "      <td>86%</td>\n",
       "      <td>t</td>\n",
       "      <td>Wan Chai</td>\n",
       "      <td>['email', 'phone']</td>\n",
       "      <td>...</td>\n",
       "      <td>302</td>\n",
       "      <td>28</td>\n",
       "      <td>0</td>\n",
       "      <td>NaN</td>\n",
       "      <td>NaN</td>\n",
       "      <td>1</td>\n",
       "      <td>1</td>\n",
       "      <td>0</td>\n",
       "      <td>0</td>\n",
       "      <td>1.90</td>\n",
       "    </tr>\n",
       "    <tr>\n",
       "      <th>4</th>\n",
       "      <td>city scrape</td>\n",
       "      <td>Shan</td>\n",
       "      <td>26/11/2011</td>\n",
       "      <td>Hong Kong</td>\n",
       "      <td>within a few hours</td>\n",
       "      <td>100%</td>\n",
       "      <td>88%</td>\n",
       "      <td>f</td>\n",
       "      <td>Stanley</td>\n",
       "      <td>['email', 'phone']</td>\n",
       "      <td>...</td>\n",
       "      <td>56</td>\n",
       "      <td>10</td>\n",
       "      <td>1</td>\n",
       "      <td>NaN</td>\n",
       "      <td>NaN</td>\n",
       "      <td>2</td>\n",
       "      <td>2</td>\n",
       "      <td>0</td>\n",
       "      <td>0</td>\n",
       "      <td>0.36</td>\n",
       "    </tr>\n",
       "    <tr>\n",
       "      <th>...</th>\n",
       "      <td>...</td>\n",
       "      <td>...</td>\n",
       "      <td>...</td>\n",
       "      <td>...</td>\n",
       "      <td>...</td>\n",
       "      <td>...</td>\n",
       "      <td>...</td>\n",
       "      <td>...</td>\n",
       "      <td>...</td>\n",
       "      <td>...</td>\n",
       "      <td>...</td>\n",
       "      <td>...</td>\n",
       "      <td>...</td>\n",
       "      <td>...</td>\n",
       "      <td>...</td>\n",
       "      <td>...</td>\n",
       "      <td>...</td>\n",
       "      <td>...</td>\n",
       "      <td>...</td>\n",
       "      <td>...</td>\n",
       "      <td>...</td>\n",
       "    </tr>\n",
       "    <tr>\n",
       "      <th>6713</th>\n",
       "      <td>city scrape</td>\n",
       "      <td>Cherry</td>\n",
       "      <td>21/11/2012</td>\n",
       "      <td>Hong Kong</td>\n",
       "      <td>within an hour</td>\n",
       "      <td>100%</td>\n",
       "      <td>98%</td>\n",
       "      <td>f</td>\n",
       "      <td>Wan Chai</td>\n",
       "      <td>['email', 'phone']</td>\n",
       "      <td>...</td>\n",
       "      <td>0</td>\n",
       "      <td>0</td>\n",
       "      <td>0</td>\n",
       "      <td>NaN</td>\n",
       "      <td>NaN</td>\n",
       "      <td>34</td>\n",
       "      <td>14</td>\n",
       "      <td>19</td>\n",
       "      <td>1</td>\n",
       "      <td>0.90</td>\n",
       "    </tr>\n",
       "    <tr>\n",
       "      <th>6714</th>\n",
       "      <td>city scrape</td>\n",
       "      <td>Edwin</td>\n",
       "      <td>04/02/2016</td>\n",
       "      <td>Hong Kong</td>\n",
       "      <td>NaN</td>\n",
       "      <td>NaN</td>\n",
       "      <td>NaN</td>\n",
       "      <td>f</td>\n",
       "      <td>Mid-Levels</td>\n",
       "      <td>['email', 'phone']</td>\n",
       "      <td>...</td>\n",
       "      <td>0</td>\n",
       "      <td>0</td>\n",
       "      <td>0</td>\n",
       "      <td>NaN</td>\n",
       "      <td>NaN</td>\n",
       "      <td>1</td>\n",
       "      <td>1</td>\n",
       "      <td>0</td>\n",
       "      <td>0</td>\n",
       "      <td>0.90</td>\n",
       "    </tr>\n",
       "    <tr>\n",
       "      <th>6715</th>\n",
       "      <td>city scrape</td>\n",
       "      <td>James John</td>\n",
       "      <td>19/12/2024</td>\n",
       "      <td>NaN</td>\n",
       "      <td>NaN</td>\n",
       "      <td>NaN</td>\n",
       "      <td>NaN</td>\n",
       "      <td>f</td>\n",
       "      <td>Wong Chuk Hang</td>\n",
       "      <td>['email', 'phone']</td>\n",
       "      <td>...</td>\n",
       "      <td>0</td>\n",
       "      <td>0</td>\n",
       "      <td>0</td>\n",
       "      <td>NaN</td>\n",
       "      <td>NaN</td>\n",
       "      <td>1</td>\n",
       "      <td>1</td>\n",
       "      <td>0</td>\n",
       "      <td>0</td>\n",
       "      <td>0.90</td>\n",
       "    </tr>\n",
       "    <tr>\n",
       "      <th>6716</th>\n",
       "      <td>city scrape</td>\n",
       "      <td>Iryna</td>\n",
       "      <td>31/07/2019</td>\n",
       "      <td>NaN</td>\n",
       "      <td>NaN</td>\n",
       "      <td>NaN</td>\n",
       "      <td>NaN</td>\n",
       "      <td>f</td>\n",
       "      <td>Sai Wan</td>\n",
       "      <td>['phone']</td>\n",
       "      <td>...</td>\n",
       "      <td>0</td>\n",
       "      <td>0</td>\n",
       "      <td>0</td>\n",
       "      <td>NaN</td>\n",
       "      <td>NaN</td>\n",
       "      <td>1</td>\n",
       "      <td>0</td>\n",
       "      <td>1</td>\n",
       "      <td>0</td>\n",
       "      <td>0.90</td>\n",
       "    </tr>\n",
       "    <tr>\n",
       "      <th>6717</th>\n",
       "      <td>city scrape</td>\n",
       "      <td>佩涛</td>\n",
       "      <td>20/12/2024</td>\n",
       "      <td>NaN</td>\n",
       "      <td>NaN</td>\n",
       "      <td>NaN</td>\n",
       "      <td>NaN</td>\n",
       "      <td>f</td>\n",
       "      <td>Yau Ma Tei</td>\n",
       "      <td>['phone']</td>\n",
       "      <td>...</td>\n",
       "      <td>0</td>\n",
       "      <td>0</td>\n",
       "      <td>0</td>\n",
       "      <td>NaN</td>\n",
       "      <td>NaN</td>\n",
       "      <td>1</td>\n",
       "      <td>0</td>\n",
       "      <td>1</td>\n",
       "      <td>0</td>\n",
       "      <td>0.90</td>\n",
       "    </tr>\n",
       "  </tbody>\n",
       "</table>\n",
       "<p>6718 rows × 50 columns</p>\n",
       "</div>"
      ],
      "text/plain": [
       "               source   host_name  host_since host_location  \\\n",
       "0         city scrape     Brendan  30/11/2010     Hong Kong   \n",
       "1     previous scrape      Darren  17/10/2011     Hong Kong   \n",
       "2         city scrape     Chuster  04/11/2011     Hong Kong   \n",
       "3         city scrape    Shanshan  23/11/2011     Hong Kong   \n",
       "4         city scrape        Shan  26/11/2011     Hong Kong   \n",
       "...               ...         ...         ...           ...   \n",
       "6713      city scrape      Cherry  21/11/2012     Hong Kong   \n",
       "6714      city scrape       Edwin  04/02/2016     Hong Kong   \n",
       "6715      city scrape  James John  19/12/2024           NaN   \n",
       "6716      city scrape       Iryna  31/07/2019           NaN   \n",
       "6717      city scrape          佩涛  20/12/2024           NaN   \n",
       "\n",
       "      host_response_time host_response_rate host_acceptance_rate  \\\n",
       "0           within a day               100%                  69%   \n",
       "1         within an hour               100%                  81%   \n",
       "2     within a few hours               100%                  NaN   \n",
       "3           within a day               100%                  86%   \n",
       "4     within a few hours               100%                  88%   \n",
       "...                  ...                ...                  ...   \n",
       "6713      within an hour               100%                  98%   \n",
       "6714                 NaN                NaN                  NaN   \n",
       "6715                 NaN                NaN                  NaN   \n",
       "6716                 NaN                NaN                  NaN   \n",
       "6717                 NaN                NaN                  NaN   \n",
       "\n",
       "     host_is_superhost host_neighbourhood                host_verifications  \\\n",
       "0                    f            Central                ['email', 'phone']   \n",
       "1                    f         Sheung Wan                ['email', 'phone']   \n",
       "2                    f           The Peak  ['email', 'phone', 'work_email']   \n",
       "3                    t           Wan Chai                ['email', 'phone']   \n",
       "4                    f            Stanley                ['email', 'phone']   \n",
       "...                ...                ...                               ...   \n",
       "6713                 f           Wan Chai                ['email', 'phone']   \n",
       "6714                 f         Mid-Levels                ['email', 'phone']   \n",
       "6715                 f     Wong Chuk Hang                ['email', 'phone']   \n",
       "6716                 f            Sai Wan                         ['phone']   \n",
       "6717                 f         Yau Ma Tei                         ['phone']   \n",
       "\n",
       "      ... number_of_reviews number_of_reviews_ltm number_of_reviews_l30d  \\\n",
       "0     ...               316                     3                      0   \n",
       "1     ...               220                    23                      2   \n",
       "2     ...                 0                     0                      0   \n",
       "3     ...               302                    28                      0   \n",
       "4     ...                56                    10                      1   \n",
       "...   ...               ...                   ...                    ...   \n",
       "6713  ...                 0                     0                      0   \n",
       "6714  ...                 0                     0                      0   \n",
       "6715  ...                 0                     0                      0   \n",
       "6716  ...                 0                     0                      0   \n",
       "6717  ...                 0                     0                      0   \n",
       "\n",
       "     review_scores_rating review_scores_accuracy  \\\n",
       "0                     NaN                    NaN   \n",
       "1                     NaN                    NaN   \n",
       "2                     NaN                    NaN   \n",
       "3                     NaN                    NaN   \n",
       "4                     NaN                    NaN   \n",
       "...                   ...                    ...   \n",
       "6713                  NaN                    NaN   \n",
       "6714                  NaN                    NaN   \n",
       "6715                  NaN                    NaN   \n",
       "6716                  NaN                    NaN   \n",
       "6717                  NaN                    NaN   \n",
       "\n",
       "     calculated_host_listings_count  \\\n",
       "0                                 6   \n",
       "1                                 1   \n",
       "2                                 1   \n",
       "3                                 1   \n",
       "4                                 2   \n",
       "...                             ...   \n",
       "6713                             34   \n",
       "6714                              1   \n",
       "6715                              1   \n",
       "6716                              1   \n",
       "6717                              1   \n",
       "\n",
       "     calculated_host_listings_count_entire_homes  \\\n",
       "0                                              2   \n",
       "1                                              1   \n",
       "2                                              0   \n",
       "3                                              1   \n",
       "4                                              2   \n",
       "...                                          ...   \n",
       "6713                                          14   \n",
       "6714                                           1   \n",
       "6715                                           1   \n",
       "6716                                           0   \n",
       "6717                                           0   \n",
       "\n",
       "     calculated_host_listings_count_private_rooms  \\\n",
       "0                                               4   \n",
       "1                                               0   \n",
       "2                                               1   \n",
       "3                                               0   \n",
       "4                                               0   \n",
       "...                                           ...   \n",
       "6713                                           19   \n",
       "6714                                            0   \n",
       "6715                                            0   \n",
       "6716                                            1   \n",
       "6717                                            1   \n",
       "\n",
       "     calculated_host_listings_count_shared_rooms reviews_per_month  \n",
       "0                                              0              1.92  \n",
       "1                                              0              1.37  \n",
       "2                                              0              0.90  \n",
       "3                                              0              1.90  \n",
       "4                                              0              0.36  \n",
       "...                                          ...               ...  \n",
       "6713                                           1              0.90  \n",
       "6714                                           0              0.90  \n",
       "6715                                           0              0.90  \n",
       "6716                                           0              0.90  \n",
       "6717                                           0              0.90  \n",
       "\n",
       "[6718 rows x 50 columns]"
      ]
     },
     "execution_count": 7,
     "metadata": {},
     "output_type": "execute_result"
    }
   ],
   "source": [
    "cuantitativas=data_sucio.select_dtypes(include=[\"float64\",\"int64\",\"float\",\"int\"])\n",
    "cualitativas=data_sucio.select_dtypes(include=[\"object\",\"datetime\",\"category\"])\n",
    "y=cuantitativas\n",
    "\n",
    "percentile25=y.quantile(0.25)\n",
    "percentile75=y.quantile(0.75)\n",
    "iqr= percentile75-percentile25\n",
    "\n",
    "Limite_Superior_iqr= percentile75+1.5*iqr\n",
    "Limite_Inferior_iqr= percentile25-1.5*iqr\n",
    "iqr=cuantitativas[(y<=Limite_Superior_iqr)&y>=(Limite_Inferior_iqr)]\n",
    "iqr2=iqr.fillna(round(iqr.mean(),1))\n",
    "rango_intercuartilico=pd.concat([cualitativas,iqr2],axis=1)\n",
    "rango_intercuartilico"
   ]
  },
  {
   "cell_type": "code",
   "execution_count": 8,
   "id": "e888b4bc",
   "metadata": {},
   "outputs": [
    {
     "name": "stderr",
     "output_type": "stream",
     "text": [
      "C:\\Users\\B_3mi\\AppData\\Local\\Temp\\ipykernel_15436\\2201947038.py:1: FutureWarning: DataFrame.fillna with 'method' is deprecated and will raise in a future version. Use obj.ffill() or obj.bfill() instead.\n",
      "  cualis_bfill=data_cuali.fillna(method=\"bfill\").fillna(method=\"ffill\")\n",
      "C:\\Users\\B_3mi\\AppData\\Local\\Temp\\ipykernel_15436\\2201947038.py:2: FutureWarning: DataFrame.fillna with 'method' is deprecated and will raise in a future version. Use obj.ffill() or obj.bfill() instead.\n",
      "  cualis_ffill=data_cuali.fillna(method=\"ffill\").fillna(method=\"bfill\")\n"
     ]
    },
    {
     "data": {
      "text/html": [
       "<div>\n",
       "<style scoped>\n",
       "    .dataframe tbody tr th:only-of-type {\n",
       "        vertical-align: middle;\n",
       "    }\n",
       "\n",
       "    .dataframe tbody tr th {\n",
       "        vertical-align: top;\n",
       "    }\n",
       "\n",
       "    .dataframe thead th {\n",
       "        text-align: right;\n",
       "    }\n",
       "</style>\n",
       "<table border=\"1\" class=\"dataframe\">\n",
       "  <thead>\n",
       "    <tr style=\"text-align: right;\">\n",
       "      <th></th>\n",
       "      <th>id</th>\n",
       "      <th>host_id</th>\n",
       "      <th>host_total_listings_count</th>\n",
       "      <th>accommodates</th>\n",
       "      <th>bathrooms</th>\n",
       "      <th>bedrooms</th>\n",
       "      <th>beds</th>\n",
       "      <th>minimum_nights</th>\n",
       "      <th>maximum_nights</th>\n",
       "      <th>minimum_minimum_nights</th>\n",
       "      <th>...</th>\n",
       "      <th>neighbourhood</th>\n",
       "      <th>neighbourhood_cleansed</th>\n",
       "      <th>property_type</th>\n",
       "      <th>room_type</th>\n",
       "      <th>bathrooms_text</th>\n",
       "      <th>amenities</th>\n",
       "      <th>price</th>\n",
       "      <th>first_review</th>\n",
       "      <th>last_review</th>\n",
       "      <th>instant_bookable</th>\n",
       "    </tr>\n",
       "  </thead>\n",
       "  <tbody>\n",
       "    <tr>\n",
       "      <th>0</th>\n",
       "      <td>103760</td>\n",
       "      <td>304876</td>\n",
       "      <td>59</td>\n",
       "      <td>6</td>\n",
       "      <td>1.0</td>\n",
       "      <td>2.0</td>\n",
       "      <td>3.0</td>\n",
       "      <td>28</td>\n",
       "      <td>1125</td>\n",
       "      <td>28</td>\n",
       "      <td>...</td>\n",
       "      <td>Sheung Wan, Hong Kong</td>\n",
       "      <td>Central &amp; Western</td>\n",
       "      <td>Entire rental unit</td>\n",
       "      <td>Entire home/apt</td>\n",
       "      <td>1 bath</td>\n",
       "      <td>[\"Self check-in\", \"Wifi\", \"AC - split type duc...</td>\n",
       "      <td>$1,120.00</td>\n",
       "      <td>19/06/2011</td>\n",
       "      <td>13/02/2024</td>\n",
       "      <td>f</td>\n",
       "    </tr>\n",
       "    <tr>\n",
       "      <th>1</th>\n",
       "      <td>248140</td>\n",
       "      <td>1300549</td>\n",
       "      <td>1</td>\n",
       "      <td>2</td>\n",
       "      <td>1.2</td>\n",
       "      <td>1.0</td>\n",
       "      <td>1.6</td>\n",
       "      <td>30</td>\n",
       "      <td>150</td>\n",
       "      <td>30</td>\n",
       "      <td>...</td>\n",
       "      <td>Sheung Wan, Hong Kong</td>\n",
       "      <td>Central &amp; Western</td>\n",
       "      <td>Entire rental unit</td>\n",
       "      <td>Entire home/apt</td>\n",
       "      <td>1 bath</td>\n",
       "      <td>[\"Hot water kettle\", \"Wifi\", \"Room-darkening s...</td>\n",
       "      <td>$1,120.00</td>\n",
       "      <td>30/10/2011</td>\n",
       "      <td>06/12/2024</td>\n",
       "      <td>f</td>\n",
       "    </tr>\n",
       "    <tr>\n",
       "      <th>2</th>\n",
       "      <td>263081</td>\n",
       "      <td>1370155</td>\n",
       "      <td>1</td>\n",
       "      <td>8</td>\n",
       "      <td>2.5</td>\n",
       "      <td>3.0</td>\n",
       "      <td>6.0</td>\n",
       "      <td>10</td>\n",
       "      <td>30</td>\n",
       "      <td>10</td>\n",
       "      <td>...</td>\n",
       "      <td>Mid-level, Hong Kong</td>\n",
       "      <td>Central &amp; Western</td>\n",
       "      <td>Private room in rental unit</td>\n",
       "      <td>Private room</td>\n",
       "      <td>2.5 baths</td>\n",
       "      <td>[\"Elevator\", \"Children\\u2019s dinnerware\", \"Ex...</td>\n",
       "      <td>$22,215.00</td>\n",
       "      <td>30/10/2011</td>\n",
       "      <td>06/12/2024</td>\n",
       "      <td>f</td>\n",
       "    </tr>\n",
       "    <tr>\n",
       "      <th>3</th>\n",
       "      <td>274589</td>\n",
       "      <td>1435069</td>\n",
       "      <td>1</td>\n",
       "      <td>4</td>\n",
       "      <td>1.0</td>\n",
       "      <td>2.0</td>\n",
       "      <td>3.0</td>\n",
       "      <td>28</td>\n",
       "      <td>365</td>\n",
       "      <td>3</td>\n",
       "      <td>...</td>\n",
       "      <td>Mid-level, Hong Kong</td>\n",
       "      <td>Wan Chai</td>\n",
       "      <td>Entire rental unit</td>\n",
       "      <td>Entire home/apt</td>\n",
       "      <td>1 bath</td>\n",
       "      <td>[\"Stove\", \"Wifi\", \"Clothing storage: wardrobe\"...</td>\n",
       "      <td>$1,477.00</td>\n",
       "      <td>16/12/2011</td>\n",
       "      <td>02/11/2024</td>\n",
       "      <td>f</td>\n",
       "    </tr>\n",
       "    <tr>\n",
       "      <th>4</th>\n",
       "      <td>280746</td>\n",
       "      <td>1443229</td>\n",
       "      <td>19</td>\n",
       "      <td>6</td>\n",
       "      <td>2.0</td>\n",
       "      <td>3.0</td>\n",
       "      <td>3.0</td>\n",
       "      <td>3</td>\n",
       "      <td>365</td>\n",
       "      <td>3</td>\n",
       "      <td>...</td>\n",
       "      <td>Mid-level, Hong Kong</td>\n",
       "      <td>Yuen Long</td>\n",
       "      <td>Entire rental unit</td>\n",
       "      <td>Entire home/apt</td>\n",
       "      <td>2 baths</td>\n",
       "      <td>[\"Stove\", \"Self check-in\", \"Hot water kettle\",...</td>\n",
       "      <td>$1,011.00</td>\n",
       "      <td>21/04/2012</td>\n",
       "      <td>06/12/2024</td>\n",
       "      <td>t</td>\n",
       "    </tr>\n",
       "    <tr>\n",
       "      <th>...</th>\n",
       "      <td>...</td>\n",
       "      <td>...</td>\n",
       "      <td>...</td>\n",
       "      <td>...</td>\n",
       "      <td>...</td>\n",
       "      <td>...</td>\n",
       "      <td>...</td>\n",
       "      <td>...</td>\n",
       "      <td>...</td>\n",
       "      <td>...</td>\n",
       "      <td>...</td>\n",
       "      <td>...</td>\n",
       "      <td>...</td>\n",
       "      <td>...</td>\n",
       "      <td>...</td>\n",
       "      <td>...</td>\n",
       "      <td>...</td>\n",
       "      <td>...</td>\n",
       "      <td>...</td>\n",
       "      <td>...</td>\n",
       "      <td>...</td>\n",
       "    </tr>\n",
       "    <tr>\n",
       "      <th>6713</th>\n",
       "      <td>1305922079484820904</td>\n",
       "      <td>4209137</td>\n",
       "      <td>38</td>\n",
       "      <td>6</td>\n",
       "      <td>1.0</td>\n",
       "      <td>2.0</td>\n",
       "      <td>3.0</td>\n",
       "      <td>1</td>\n",
       "      <td>365</td>\n",
       "      <td>1</td>\n",
       "      <td>...</td>\n",
       "      <td>Hong Kong, Hong Kong Island, Hong Kong</td>\n",
       "      <td>Wan Chai</td>\n",
       "      <td>Entire rental unit</td>\n",
       "      <td>Entire home/apt</td>\n",
       "      <td>1 bath</td>\n",
       "      <td>[\"Stove\", \"Self check-in\", \"Hot water kettle\",...</td>\n",
       "      <td>$1,767.00</td>\n",
       "      <td>22/12/2024</td>\n",
       "      <td>22/12/2024</td>\n",
       "      <td>f</td>\n",
       "    </tr>\n",
       "    <tr>\n",
       "      <th>6714</th>\n",
       "      <td>1306173025771347835</td>\n",
       "      <td>57341318</td>\n",
       "      <td>1</td>\n",
       "      <td>2</td>\n",
       "      <td>1.0</td>\n",
       "      <td>1.0</td>\n",
       "      <td>1.0</td>\n",
       "      <td>1</td>\n",
       "      <td>365</td>\n",
       "      <td>1</td>\n",
       "      <td>...</td>\n",
       "      <td>Hong Kong, Hong Kong Island, Hong Kong</td>\n",
       "      <td>Central &amp; Western</td>\n",
       "      <td>Entire rental unit</td>\n",
       "      <td>Entire home/apt</td>\n",
       "      <td>1 bath</td>\n",
       "      <td>[\"Wifi\", \"First aid kit\", \"Carbon monoxide ala...</td>\n",
       "      <td>$626.00</td>\n",
       "      <td>22/12/2024</td>\n",
       "      <td>22/12/2024</td>\n",
       "      <td>f</td>\n",
       "    </tr>\n",
       "    <tr>\n",
       "      <th>6715</th>\n",
       "      <td>1306185405897992592</td>\n",
       "      <td>667730514</td>\n",
       "      <td>1</td>\n",
       "      <td>2</td>\n",
       "      <td>1.0</td>\n",
       "      <td>1.0</td>\n",
       "      <td>1.0</td>\n",
       "      <td>1</td>\n",
       "      <td>14</td>\n",
       "      <td>1</td>\n",
       "      <td>...</td>\n",
       "      <td>Hong Kong, Hong Kong Island, Hong Kong</td>\n",
       "      <td>Southern</td>\n",
       "      <td>Entire rental unit</td>\n",
       "      <td>Entire home/apt</td>\n",
       "      <td>1 bath</td>\n",
       "      <td>[\"TV\", \"Washer\", \"Wifi\", \"Pets allowed\", \"Dedi...</td>\n",
       "      <td>$528.00</td>\n",
       "      <td>22/12/2024</td>\n",
       "      <td>22/12/2024</td>\n",
       "      <td>t</td>\n",
       "    </tr>\n",
       "    <tr>\n",
       "      <th>6716</th>\n",
       "      <td>1306203936024566574</td>\n",
       "      <td>280827591</td>\n",
       "      <td>1</td>\n",
       "      <td>1</td>\n",
       "      <td>1.0</td>\n",
       "      <td>1.0</td>\n",
       "      <td>1.0</td>\n",
       "      <td>1</td>\n",
       "      <td>365</td>\n",
       "      <td>1</td>\n",
       "      <td>...</td>\n",
       "      <td>Hong Kong, Hong Kong Island, Hong Kong</td>\n",
       "      <td>Central &amp; Western</td>\n",
       "      <td>Private room in rental unit</td>\n",
       "      <td>Private room</td>\n",
       "      <td>1 shared bath</td>\n",
       "      <td>[\"Washer\", \"Wifi\", \"Dedicated workspace\", \"Pai...</td>\n",
       "      <td>$455.00</td>\n",
       "      <td>22/12/2024</td>\n",
       "      <td>22/12/2024</td>\n",
       "      <td>f</td>\n",
       "    </tr>\n",
       "    <tr>\n",
       "      <th>6717</th>\n",
       "      <td>1306227163822276938</td>\n",
       "      <td>668016531</td>\n",
       "      <td>1</td>\n",
       "      <td>2</td>\n",
       "      <td>8.0</td>\n",
       "      <td>1.2</td>\n",
       "      <td>8.0</td>\n",
       "      <td>1</td>\n",
       "      <td>365</td>\n",
       "      <td>1</td>\n",
       "      <td>...</td>\n",
       "      <td>Hong Kong, Hong Kong Island, Hong Kong</td>\n",
       "      <td>Yau Tsim Mong</td>\n",
       "      <td>Private room in serviced apartment</td>\n",
       "      <td>Private room</td>\n",
       "      <td>8 shared baths</td>\n",
       "      <td>[\"TV\", \"Exterior security cameras on property\"...</td>\n",
       "      <td>$321.00</td>\n",
       "      <td>22/12/2024</td>\n",
       "      <td>22/12/2024</td>\n",
       "      <td>f</td>\n",
       "    </tr>\n",
       "  </tbody>\n",
       "</table>\n",
       "<p>6718 rows × 50 columns</p>\n",
       "</div>"
      ],
      "text/plain": [
       "                       id    host_id  host_total_listings_count  accommodates  \\\n",
       "0                  103760     304876                         59             6   \n",
       "1                  248140    1300549                          1             2   \n",
       "2                  263081    1370155                          1             8   \n",
       "3                  274589    1435069                          1             4   \n",
       "4                  280746    1443229                         19             6   \n",
       "...                   ...        ...                        ...           ...   \n",
       "6713  1305922079484820904    4209137                         38             6   \n",
       "6714  1306173025771347835   57341318                          1             2   \n",
       "6715  1306185405897992592  667730514                          1             2   \n",
       "6716  1306203936024566574  280827591                          1             1   \n",
       "6717  1306227163822276938  668016531                          1             2   \n",
       "\n",
       "      bathrooms  bedrooms  beds  minimum_nights  maximum_nights  \\\n",
       "0           1.0       2.0   3.0              28            1125   \n",
       "1           1.2       1.0   1.6              30             150   \n",
       "2           2.5       3.0   6.0              10              30   \n",
       "3           1.0       2.0   3.0              28             365   \n",
       "4           2.0       3.0   3.0               3             365   \n",
       "...         ...       ...   ...             ...             ...   \n",
       "6713        1.0       2.0   3.0               1             365   \n",
       "6714        1.0       1.0   1.0               1             365   \n",
       "6715        1.0       1.0   1.0               1              14   \n",
       "6716        1.0       1.0   1.0               1             365   \n",
       "6717        8.0       1.2   8.0               1             365   \n",
       "\n",
       "      minimum_minimum_nights  ...                           neighbourhood  \\\n",
       "0                         28  ...                   Sheung Wan, Hong Kong   \n",
       "1                         30  ...                   Sheung Wan, Hong Kong   \n",
       "2                         10  ...                    Mid-level, Hong Kong   \n",
       "3                          3  ...                    Mid-level, Hong Kong   \n",
       "4                          3  ...                    Mid-level, Hong Kong   \n",
       "...                      ...  ...                                     ...   \n",
       "6713                       1  ...  Hong Kong, Hong Kong Island, Hong Kong   \n",
       "6714                       1  ...  Hong Kong, Hong Kong Island, Hong Kong   \n",
       "6715                       1  ...  Hong Kong, Hong Kong Island, Hong Kong   \n",
       "6716                       1  ...  Hong Kong, Hong Kong Island, Hong Kong   \n",
       "6717                       1  ...  Hong Kong, Hong Kong Island, Hong Kong   \n",
       "\n",
       "      neighbourhood_cleansed                       property_type  \\\n",
       "0          Central & Western                  Entire rental unit   \n",
       "1          Central & Western                  Entire rental unit   \n",
       "2          Central & Western         Private room in rental unit   \n",
       "3                   Wan Chai                  Entire rental unit   \n",
       "4                  Yuen Long                  Entire rental unit   \n",
       "...                      ...                                 ...   \n",
       "6713                Wan Chai                  Entire rental unit   \n",
       "6714       Central & Western                  Entire rental unit   \n",
       "6715                Southern                  Entire rental unit   \n",
       "6716       Central & Western         Private room in rental unit   \n",
       "6717           Yau Tsim Mong  Private room in serviced apartment   \n",
       "\n",
       "            room_type  bathrooms_text  \\\n",
       "0     Entire home/apt          1 bath   \n",
       "1     Entire home/apt          1 bath   \n",
       "2        Private room       2.5 baths   \n",
       "3     Entire home/apt          1 bath   \n",
       "4     Entire home/apt         2 baths   \n",
       "...               ...             ...   \n",
       "6713  Entire home/apt          1 bath   \n",
       "6714  Entire home/apt          1 bath   \n",
       "6715  Entire home/apt          1 bath   \n",
       "6716     Private room   1 shared bath   \n",
       "6717     Private room  8 shared baths   \n",
       "\n",
       "                                              amenities       price  \\\n",
       "0     [\"Self check-in\", \"Wifi\", \"AC - split type duc...   $1,120.00   \n",
       "1     [\"Hot water kettle\", \"Wifi\", \"Room-darkening s...   $1,120.00   \n",
       "2     [\"Elevator\", \"Children\\u2019s dinnerware\", \"Ex...  $22,215.00   \n",
       "3     [\"Stove\", \"Wifi\", \"Clothing storage: wardrobe\"...   $1,477.00   \n",
       "4     [\"Stove\", \"Self check-in\", \"Hot water kettle\",...   $1,011.00   \n",
       "...                                                 ...         ...   \n",
       "6713  [\"Stove\", \"Self check-in\", \"Hot water kettle\",...   $1,767.00   \n",
       "6714  [\"Wifi\", \"First aid kit\", \"Carbon monoxide ala...     $626.00   \n",
       "6715  [\"TV\", \"Washer\", \"Wifi\", \"Pets allowed\", \"Dedi...     $528.00   \n",
       "6716  [\"Washer\", \"Wifi\", \"Dedicated workspace\", \"Pai...     $455.00   \n",
       "6717  [\"TV\", \"Exterior security cameras on property\"...     $321.00   \n",
       "\n",
       "      first_review  last_review  instant_bookable  \n",
       "0       19/06/2011   13/02/2024                 f  \n",
       "1       30/10/2011   06/12/2024                 f  \n",
       "2       30/10/2011   06/12/2024                 f  \n",
       "3       16/12/2011   02/11/2024                 f  \n",
       "4       21/04/2012   06/12/2024                 t  \n",
       "...            ...          ...               ...  \n",
       "6713    22/12/2024   22/12/2024                 f  \n",
       "6714    22/12/2024   22/12/2024                 f  \n",
       "6715    22/12/2024   22/12/2024                 t  \n",
       "6716    22/12/2024   22/12/2024                 f  \n",
       "6717    22/12/2024   22/12/2024                 f  \n",
       "\n",
       "[6718 rows x 50 columns]"
      ]
     },
     "execution_count": 8,
     "metadata": {},
     "output_type": "execute_result"
    }
   ],
   "source": [
    "cualis_bfill=data_cuali.fillna(method=\"bfill\").fillna(method=\"ffill\")\n",
    "cualis_ffill=data_cuali.fillna(method=\"ffill\").fillna(method=\"bfill\")\n",
    "cuantias_mean=data_cuanti.fillna(round(data_cuanti.mean(),1))\n",
    "\n",
    "data = pd.concat([cuantias_mean,cualis_ffill],axis=1)\n",
    "\n",
    "data"
   ]
  },
  {
   "cell_type": "code",
   "execution_count": 9,
   "id": "cfcd1e50",
   "metadata": {},
   "outputs": [
    {
     "name": "stdout",
     "output_type": "stream",
     "text": [
      "0\n"
     ]
    }
   ],
   "source": [
    "data_sin_nulos=data.isnull().sum().sum()\n",
    "print(data_sin_nulos)"
   ]
  },
  {
   "cell_type": "markdown",
   "id": "a70de1b1",
   "metadata": {},
   "source": [
    "## Elegir 2 modelos de correlación No lineal y Analizar la correlación que existe"
   ]
  },
  {
   "cell_type": "code",
   "execution_count": 10,
   "id": "da1e422e",
   "metadata": {},
   "outputs": [],
   "source": [
    "data['host_response_rate'] = data['host_response_rate'].str.replace('%', '').astype(float)\n",
    "data['host_acceptance_rate'] = data['host_acceptance_rate'].str.replace('%','').astype(float)\n",
    "data['price'] = data['price'].str.replace('[$,]', '', regex=True).astype(float)"
   ]
  },
  {
   "cell_type": "markdown",
   "id": "8a416ca5",
   "metadata": {},
   "source": [
    "# Modelo 1"
   ]
  },
  {
   "cell_type": "markdown",
   "id": "9bf917c8",
   "metadata": {},
   "source": [
    "Vars_Indep = data['host_response_rate'] \n",
    "\n",
    "Var_Dep = data['host_acceptance_rate']"
   ]
  },
  {
   "cell_type": "code",
   "execution_count": 11,
   "id": "18d1e2c3",
   "metadata": {},
   "outputs": [],
   "source": [
    "Vars_Indep = data['host_response_rate'] \n",
    "Var_Dep = data['host_acceptance_rate']\n",
    "x= Vars_Indep\n",
    "y= Var_Dep"
   ]
  },
  {
   "cell_type": "code",
   "execution_count": 12,
   "id": "48efd2a3",
   "metadata": {},
   "outputs": [],
   "source": [
    "def  func1 (x, a, b, c):\n",
    "     return a*x**2 + b*x + c"
   ]
  },
  {
   "cell_type": "code",
   "execution_count": 13,
   "id": "1119e8a6",
   "metadata": {},
   "outputs": [
    {
     "data": {
      "text/plain": [
       "array([ 5.64178673e-03, -2.39377254e-01,  4.10937374e+01])"
      ]
     },
     "execution_count": 13,
     "metadata": {},
     "output_type": "execute_result"
    }
   ],
   "source": [
    "parametros1, covs= curve_fit(func1, x, y)\n",
    "parametros1"
   ]
  },
  {
   "cell_type": "code",
   "execution_count": 14,
   "id": "62cfea04",
   "metadata": {},
   "outputs": [
    {
     "data": {
      "text/plain": [
       "0       73.573879\n",
       "1       73.573879\n",
       "2       73.573879\n",
       "3       73.573879\n",
       "4       73.573879\n",
       "          ...    \n",
       "6713    73.573879\n",
       "6714    73.573879\n",
       "6715    73.573879\n",
       "6716    73.573879\n",
       "6717    73.573879\n",
       "Name: host_response_rate, Length: 6718, dtype: float64"
      ]
     },
     "execution_count": 14,
     "metadata": {},
     "output_type": "execute_result"
    }
   ],
   "source": [
    "y_pred1 = func1(x, *parametros1)\n",
    "y_pred1"
   ]
  },
  {
   "cell_type": "code",
   "execution_count": 15,
   "id": "4c9c9207",
   "metadata": {},
   "outputs": [
    {
     "data": {
      "image/png": "[encoded data removed]",
      "text/plain": [
       "<Figure size 640x480 with 1 Axes>"
      ]
     },
     "metadata": {},
     "output_type": "display_data"
    }
   ],
   "source": [
    "#Graficamos las predicciones y los datos originales para realizar la comparación\n",
    "plt.plot(x, y, 'bo', label=\"y-original\")\n",
    "plt.plot(x, y_pred1, label=\"y-predecida con y=a*x**2 + b*x + c\")\n",
    "plt.xlabel('x')\n",
    "plt.ylabel('y')\n",
    "plt.legend(loc='best', fancybox=True, shadow=True)\n",
    "plt.grid(True)\n",
    "plt.show() "
   ]
  },
  {
   "cell_type": "code",
   "execution_count": 16,
   "id": "aac602ec",
   "metadata": {},
   "outputs": [
    {
     "data": {
      "text/plain": [
       "0.09119701604588804"
      ]
     },
     "execution_count": 16,
     "metadata": {},
     "output_type": "execute_result"
    }
   ],
   "source": [
    "#Calculamos el coeficiente de determinación del modelo\n",
    "R2_Modelo2 = r2_score(y, y_pred1) \n",
    "R2_Modelo2"
   ]
  },
  {
   "cell_type": "code",
   "execution_count": 17,
   "id": "c51bcf83",
   "metadata": {},
   "outputs": [
    {
     "data": {
      "text/plain": [
       "np.float64(0.3019884369407015)"
      ]
     },
     "execution_count": 17,
     "metadata": {},
     "output_type": "execute_result"
    }
   ],
   "source": [
    "#Calculamos el coeficiente de correlación del modelo\n",
    "R = np.sqrt(R2_Modelo2)\n",
    "R"
   ]
  },
  {
   "cell_type": "markdown",
   "id": "5788544c",
   "metadata": {},
   "source": [
    "Vars_Indep = data['host_response_rate'] \n",
    "\n",
    "Var_Dep = data['host_total_listings_count']"
   ]
  },
  {
   "cell_type": "code",
   "execution_count": 18,
   "id": "de01b532",
   "metadata": {},
   "outputs": [],
   "source": [
    "Vars_Indep = data['host_response_rate'] \n",
    "Var_Dep = data['host_total_listings_count']\n",
    "x= Vars_Indep\n",
    "y= Var_Dep"
   ]
  },
  {
   "cell_type": "code",
   "execution_count": 19,
   "id": "de95bbc9",
   "metadata": {},
   "outputs": [],
   "source": [
    "def  func1 (x, a, b, c):\n",
    "     return a*x**2 + b*x + c"
   ]
  },
  {
   "cell_type": "code",
   "execution_count": 20,
   "id": "f3264331",
   "metadata": {},
   "outputs": [
    {
     "data": {
      "text/plain": [
       "array([-3.31898051e-02,  5.25101880e+00, -4.38053246e+01])"
      ]
     },
     "execution_count": 20,
     "metadata": {},
     "output_type": "execute_result"
    }
   ],
   "source": [
    "parametros1, covs= curve_fit(func1, x, y)\n",
    "parametros1"
   ]
  },
  {
   "cell_type": "code",
   "execution_count": 21,
   "id": "58f46050",
   "metadata": {},
   "outputs": [
    {
     "data": {
      "text/plain": [
       "0       149.398504\n",
       "1       149.398504\n",
       "2       149.398504\n",
       "3       149.398504\n",
       "4       149.398504\n",
       "           ...    \n",
       "6713    149.398504\n",
       "6714    149.398504\n",
       "6715    149.398504\n",
       "6716    149.398504\n",
       "6717    149.398504\n",
       "Name: host_response_rate, Length: 6718, dtype: float64"
      ]
     },
     "execution_count": 21,
     "metadata": {},
     "output_type": "execute_result"
    }
   ],
   "source": [
    "y_pred1 = func1(x, *parametros1)\n",
    "y_pred1"
   ]
  },
  {
   "cell_type": "code",
   "execution_count": 22,
   "id": "8cbf0c7d",
   "metadata": {},
   "outputs": [
    {
     "data": {
      "image/png": "[encoded data removed]",
      "text/plain": [
       "<Figure size 640x480 with 1 Axes>"
      ]
     },
     "metadata": {},
     "output_type": "display_data"
    }
   ],
   "source": [
    "#Graficamos las predicciones y los datos originales para realizar la comparación\n",
    "plt.plot(x, y, 'bo', label=\"y-original\")\n",
    "plt.plot(x, y_pred1, label=\"y-predecida con y=a*x**2 + b*x + c\")\n",
    "plt.xlabel('x')\n",
    "plt.ylabel('y')\n",
    "plt.legend(loc='best', fancybox=True, shadow=True)\n",
    "plt.grid(True)\n",
    "plt.show() "
   ]
  },
  {
   "cell_type": "code",
   "execution_count": 23,
   "id": "dca83bb9",
   "metadata": {},
   "outputs": [
    {
     "data": {
      "text/plain": [
       "0.019652553498487713"
      ]
     },
     "execution_count": 23,
     "metadata": {},
     "output_type": "execute_result"
    }
   ],
   "source": [
    "#Calculamos el coeficiente de determinación del modelo\n",
    "R2_Modelo2 = r2_score(y, y_pred1) \n",
    "R2_Modelo2"
   ]
  },
  {
   "cell_type": "code",
   "execution_count": 24,
   "id": "a020792b",
   "metadata": {},
   "outputs": [
    {
     "data": {
      "text/plain": [
       "np.float64(0.14018756542035998)"
      ]
     },
     "execution_count": 24,
     "metadata": {},
     "output_type": "execute_result"
    }
   ],
   "source": [
    "#Calculamos el coeficiente de correlación del modelo\n",
    "R = np.sqrt(R2_Modelo2)\n",
    "R"
   ]
  },
  {
   "cell_type": "markdown",
   "id": "9dff2f09",
   "metadata": {},
   "source": [
    "Vars_Indep = data['host_response_rate'] \n",
    "\n",
    "Var_Dep = data['accommodates']"
   ]
  },
  {
   "cell_type": "code",
   "execution_count": 25,
   "id": "f2ef3fd7",
   "metadata": {},
   "outputs": [],
   "source": [
    "Vars_Indep = data['host_response_rate'] \n",
    "Var_Dep = data['accommodates']\n",
    "x= Vars_Indep\n",
    "y= Var_Dep"
   ]
  },
  {
   "cell_type": "code",
   "execution_count": 26,
   "id": "ac509ab6",
   "metadata": {},
   "outputs": [],
   "source": [
    "def  func1 (x, a, b, c):\n",
    "     return a*x**2 + b*x + c"
   ]
  },
  {
   "cell_type": "code",
   "execution_count": 27,
   "id": "28c321ed",
   "metadata": {},
   "outputs": [
    {
     "data": {
      "text/plain": [
       "array([ 9.43732095e-05, -1.31005996e-02,  2.93171556e+00])"
      ]
     },
     "execution_count": 27,
     "metadata": {},
     "output_type": "execute_result"
    }
   ],
   "source": [
    "parametros1, covs= curve_fit(func1, x, y)\n",
    "parametros1"
   ]
  },
  {
   "cell_type": "code",
   "execution_count": 28,
   "id": "2242873e",
   "metadata": {},
   "outputs": [
    {
     "data": {
      "text/plain": [
       "0       2.565388\n",
       "1       2.565388\n",
       "2       2.565388\n",
       "3       2.565388\n",
       "4       2.565388\n",
       "          ...   \n",
       "6713    2.565388\n",
       "6714    2.565388\n",
       "6715    2.565388\n",
       "6716    2.565388\n",
       "6717    2.565388\n",
       "Name: host_response_rate, Length: 6718, dtype: float64"
      ]
     },
     "execution_count": 28,
     "metadata": {},
     "output_type": "execute_result"
    }
   ],
   "source": [
    "y_pred1 = func1(x, *parametros1)\n",
    "y_pred1"
   ]
  },
  {
   "cell_type": "code",
   "execution_count": 29,
   "id": "7a78580a",
   "metadata": {},
   "outputs": [
    {
     "data": {
      "image/png": "[encoded data removed]",
      "text/plain": [
       "<Figure size 640x480 with 1 Axes>"
      ]
     },
     "metadata": {},
     "output_type": "display_data"
    }
   ],
   "source": [
    "#Graficamos las predicciones y los datos originales para realizar la comparación\n",
    "plt.plot(x, y, 'bo', label=\"y-original\")\n",
    "plt.plot(x, y_pred1, label=\"y-predecida con y=a*x**2 + b*x + c\")\n",
    "plt.xlabel('x')\n",
    "plt.ylabel('y')\n",
    "plt.legend(loc='best', fancybox=True, shadow=True)\n",
    "plt.grid(True)\n",
    "plt.show() "
   ]
  },
  {
   "cell_type": "code",
   "execution_count": 30,
   "id": "ed4256a4",
   "metadata": {},
   "outputs": [
    {
     "data": {
      "text/plain": [
       "0.0008351784567206533"
      ]
     },
     "execution_count": 30,
     "metadata": {},
     "output_type": "execute_result"
    }
   ],
   "source": [
    "#Calculamos el coeficiente de determinación del modelo\n",
    "R2_Modelo2 = r2_score(y, y_pred1) \n",
    "R2_Modelo2"
   ]
  },
  {
   "cell_type": "code",
   "execution_count": 31,
   "id": "454efe3e",
   "metadata": {},
   "outputs": [
    {
     "data": {
      "text/plain": [
       "np.float64(0.02889945426337067)"
      ]
     },
     "execution_count": 31,
     "metadata": {},
     "output_type": "execute_result"
    }
   ],
   "source": [
    "#Calculamos el coeficiente de correlación del modelo\n",
    "R = np.sqrt(R2_Modelo2)\n",
    "R"
   ]
  },
  {
   "cell_type": "markdown",
   "id": "cb15ef50",
   "metadata": {},
   "source": [
    "Vars_Indep = data['host_response_rate'] \n",
    "\n",
    "Var_Dep = data['reviews_per_month']"
   ]
  },
  {
   "cell_type": "code",
   "execution_count": 32,
   "id": "35feec68",
   "metadata": {},
   "outputs": [],
   "source": [
    "Vars_Indep = data['host_response_rate'] \n",
    "Var_Dep = data['reviews_per_month']\n",
    "x= Vars_Indep\n",
    "y= Var_Dep"
   ]
  },
  {
   "cell_type": "code",
   "execution_count": 33,
   "id": "9cb092f8",
   "metadata": {},
   "outputs": [],
   "source": [
    "def  func1 (x, a, b, c):\n",
    "     return a*x**2 + b*x + c"
   ]
  },
  {
   "cell_type": "code",
   "execution_count": 34,
   "id": "a5441dca",
   "metadata": {},
   "outputs": [
    {
     "data": {
      "text/plain": [
       "array([ 6.07176080e-05, -3.47669165e-03,  6.56882900e-01])"
      ]
     },
     "execution_count": 34,
     "metadata": {},
     "output_type": "execute_result"
    }
   ],
   "source": [
    "parametros1, covs= curve_fit(func1, x, y)\n",
    "parametros1"
   ]
  },
  {
   "cell_type": "code",
   "execution_count": 35,
   "id": "a0900651",
   "metadata": {},
   "outputs": [
    {
     "data": {
      "text/plain": [
       "0       0.91639\n",
       "1       0.91639\n",
       "2       0.91639\n",
       "3       0.91639\n",
       "4       0.91639\n",
       "         ...   \n",
       "6713    0.91639\n",
       "6714    0.91639\n",
       "6715    0.91639\n",
       "6716    0.91639\n",
       "6717    0.91639\n",
       "Name: host_response_rate, Length: 6718, dtype: float64"
      ]
     },
     "execution_count": 35,
     "metadata": {},
     "output_type": "execute_result"
    }
   ],
   "source": [
    "y_pred1 = func1(x, *parametros1)\n",
    "y_pred1"
   ]
  },
  {
   "cell_type": "code",
   "execution_count": 36,
   "id": "d58e5ce8",
   "metadata": {},
   "outputs": [
    {
     "data": {
      "image/png": "[encoded data removed]",
      "text/plain": [
       "<Figure size 640x480 with 1 Axes>"
      ]
     },
     "metadata": {},
     "output_type": "display_data"
    }
   ],
   "source": [
    "#Graficamos las predicciones y los datos originales para realizar la comparación\n",
    "plt.plot(x, y, 'bo', label=\"y-original\")\n",
    "plt.plot(x, y_pred1, label=\"y-predecida con y=a*x**2 + b*x + c\")\n",
    "plt.xlabel('x')\n",
    "plt.ylabel('y')\n",
    "plt.legend(loc='best', fancybox=True, shadow=True)\n",
    "plt.grid(True)\n",
    "plt.show() "
   ]
  },
  {
   "cell_type": "code",
   "execution_count": 37,
   "id": "2f631173",
   "metadata": {},
   "outputs": [
    {
     "data": {
      "text/plain": [
       "0.01055462596552359"
      ]
     },
     "execution_count": 37,
     "metadata": {},
     "output_type": "execute_result"
    }
   ],
   "source": [
    "#Calculamos el coeficiente de determinación del modelo\n",
    "R2_Modelo2 = r2_score(y, y_pred1) \n",
    "R2_Modelo2"
   ]
  },
  {
   "cell_type": "code",
   "execution_count": 38,
   "id": "d2abde91",
   "metadata": {},
   "outputs": [
    {
     "data": {
      "text/plain": [
       "np.float64(0.1027357093007275)"
      ]
     },
     "execution_count": 38,
     "metadata": {},
     "output_type": "execute_result"
    }
   ],
   "source": [
    "#Calculamos el coeficiente de correlación del modelo\n",
    "R = np.sqrt(R2_Modelo2)\n",
    "R"
   ]
  },
  {
   "cell_type": "markdown",
   "id": "fd29fa2f",
   "metadata": {},
   "source": [
    "Vars_Indep = data['host_response_rate'] \n",
    "\n",
    "Var_Dep = data['price']"
   ]
  },
  {
   "cell_type": "code",
   "execution_count": 39,
   "id": "61017672",
   "metadata": {},
   "outputs": [],
   "source": [
    "Vars_Indep = data['host_response_rate'] \n",
    "Var_Dep = data['price']\n",
    "x= Vars_Indep\n",
    "y= Var_Dep"
   ]
  },
  {
   "cell_type": "code",
   "execution_count": 40,
   "id": "387eee0e",
   "metadata": {},
   "outputs": [],
   "source": [
    "def  func1 (x, a, b, c):\n",
    "     return a*x**2 + b*x + c"
   ]
  },
  {
   "cell_type": "code",
   "execution_count": 41,
   "id": "dfa1c3db",
   "metadata": {},
   "outputs": [
    {
     "data": {
      "text/plain": [
       "array([ 3.42378285e-01, -5.74957284e+01,  3.20158805e+03])"
      ]
     },
     "execution_count": 41,
     "metadata": {},
     "output_type": "execute_result"
    }
   ],
   "source": [
    "parametros1, covs= curve_fit(func1, x, y)\n",
    "parametros1"
   ]
  },
  {
   "cell_type": "code",
   "execution_count": 42,
   "id": "a909cf4a",
   "metadata": {},
   "outputs": [
    {
     "data": {
      "text/plain": [
       "0       875.798062\n",
       "1       875.798062\n",
       "2       875.798062\n",
       "3       875.798062\n",
       "4       875.798062\n",
       "           ...    \n",
       "6713    875.798062\n",
       "6714    875.798062\n",
       "6715    875.798062\n",
       "6716    875.798062\n",
       "6717    875.798062\n",
       "Name: host_response_rate, Length: 6718, dtype: float64"
      ]
     },
     "execution_count": 42,
     "metadata": {},
     "output_type": "execute_result"
    }
   ],
   "source": [
    "y_pred1 = func1(x, *parametros1)\n",
    "y_pred1"
   ]
  },
  {
   "cell_type": "code",
   "execution_count": 43,
   "id": "e36b4328",
   "metadata": {},
   "outputs": [
    {
     "data": {
      "image/png": "[encoded data removed]",
      "text/plain": [
       "<Figure size 640x480 with 1 Axes>"
      ]
     },
     "metadata": {},
     "output_type": "display_data"
    }
   ],
   "source": [
    "#Graficamos las predicciones y los datos originales para realizar la comparación\n",
    "plt.plot(x, y, 'bo', label=\"y-original\")\n",
    "plt.plot(x, y_pred1, label=\"y-predecida con y=a*x**2 + b*x + c\")\n",
    "plt.xlabel('x')\n",
    "plt.ylabel('y')\n",
    "plt.legend(loc='best', fancybox=True, shadow=True)\n",
    "plt.grid(True)\n",
    "plt.show() "
   ]
  },
  {
   "cell_type": "code",
   "execution_count": 44,
   "id": "c0521b90",
   "metadata": {},
   "outputs": [
    {
     "data": {
      "text/plain": [
       "0.014065971951091383"
      ]
     },
     "execution_count": 44,
     "metadata": {},
     "output_type": "execute_result"
    }
   ],
   "source": [
    "#Calculamos el coeficiente de determinación del modelo\n",
    "R2_Modelo2 = r2_score(y, y_pred1) \n",
    "R2_Modelo2"
   ]
  },
  {
   "cell_type": "code",
   "execution_count": 45,
   "id": "99736331",
   "metadata": {},
   "outputs": [
    {
     "data": {
      "text/plain": [
       "np.float64(0.11860005038401705)"
      ]
     },
     "execution_count": 45,
     "metadata": {},
     "output_type": "execute_result"
    }
   ],
   "source": [
    "#Calculamos el coeficiente de correlación del modelo\n",
    "R = np.sqrt(R2_Modelo2)\n",
    "R"
   ]
  },
  {
   "cell_type": "markdown",
   "id": "bc1797d3",
   "metadata": {},
   "source": [
    "# Modelo 2"
   ]
  },
  {
   "cell_type": "markdown",
   "id": "655a5711",
   "metadata": {},
   "source": [
    "Vars_Indep = data['host_response_rate'] \n",
    "\n",
    "Var_Dep = data['host_acceptance_rate']"
   ]
  },
  {
   "cell_type": "code",
   "execution_count": 46,
   "id": "6e83ccbb",
   "metadata": {},
   "outputs": [],
   "source": [
    "Vars_Indep = data['host_response_rate'] \n",
    "Var_Dep = data['host_acceptance_rate']\n",
    "x= Vars_Indep\n",
    "y= Var_Dep"
   ]
  },
  {
   "cell_type": "code",
   "execution_count": 47,
   "id": "38128b1e",
   "metadata": {},
   "outputs": [],
   "source": [
    "def  func2 (x, a, b, c):\n",
    "    return a*np.exp(-b * x) + c"
   ]
  },
  {
   "cell_type": "code",
   "execution_count": 48,
   "id": "b932ef30",
   "metadata": {},
   "outputs": [
    {
     "name": "stderr",
     "output_type": "stream",
     "text": [
      "C:\\Users\\B_3mi\\AppData\\Local\\Temp\\ipykernel_15436\\1187629963.py:1: OptimizeWarning: Covariance of the parameters could not be estimated\n",
      "  parametros2, covs= curve_fit(func2, x, y)\n"
     ]
    },
    {
     "data": {
      "text/plain": [
       "array([  -28.89656525, 20394.52808795,    69.65582451])"
      ]
     },
     "execution_count": 48,
     "metadata": {},
     "output_type": "execute_result"
    }
   ],
   "source": [
    "parametros2, covs= curve_fit(func2, x, y)\n",
    "parametros2"
   ]
  },
  {
   "cell_type": "code",
   "execution_count": 49,
   "id": "942aceda",
   "metadata": {},
   "outputs": [
    {
     "data": {
      "text/plain": [
       "0       69.655825\n",
       "1       69.655825\n",
       "2       69.655825\n",
       "3       69.655825\n",
       "4       69.655825\n",
       "          ...    \n",
       "6713    69.655825\n",
       "6714    69.655825\n",
       "6715    69.655825\n",
       "6716    69.655825\n",
       "6717    69.655825\n",
       "Name: host_response_rate, Length: 6718, dtype: float64"
      ]
     },
     "execution_count": 49,
     "metadata": {},
     "output_type": "execute_result"
    }
   ],
   "source": [
    "y_pred2 = func2(x, *parametros2)\n",
    "y_pred2"
   ]
  },
  {
   "cell_type": "code",
   "execution_count": 50,
   "id": "88e3de64",
   "metadata": {},
   "outputs": [
    {
     "data": {
      "image/png": "[encoded data removed]",
      "text/plain": [
       "<Figure size 640x480 with 1 Axes>"
      ]
     },
     "metadata": {},
     "output_type": "display_data"
    }
   ],
   "source": [
    "#Graficamos las predicciones y los datos originales para realizar la comparación\n",
    "plt.plot(x, y, 'bo', label=\"y-original\")\n",
    "plt.plot(x, y_pred2, label=\"y-predecida con y=a*exp(-b * x) + c\")\n",
    "plt.xlabel('x')\n",
    "plt.ylabel('y')\n",
    "plt.legend(loc='best', fancybox=True, shadow=True)\n",
    "plt.grid(True)\n",
    "plt.show() "
   ]
  },
  {
   "cell_type": "code",
   "execution_count": 51,
   "id": "0032bfe7",
   "metadata": {},
   "outputs": [
    {
     "data": {
      "text/plain": [
       "0.016173052629656293"
      ]
     },
     "execution_count": 51,
     "metadata": {},
     "output_type": "execute_result"
    }
   ],
   "source": [
    "#Calculamos el coeficiente de determinación del modelo\n",
    "R2_Modelo2 = r2_score(y, y_pred2) \n",
    "R2_Modelo2"
   ]
  },
  {
   "cell_type": "code",
   "execution_count": 52,
   "id": "dde61734",
   "metadata": {},
   "outputs": [
    {
     "data": {
      "text/plain": [
       "np.float64(0.12717331728651374)"
      ]
     },
     "execution_count": 52,
     "metadata": {},
     "output_type": "execute_result"
    }
   ],
   "source": [
    "#Calculamos el coeficiente de correlación del modelo\n",
    "R = np.sqrt(R2_Modelo2)\n",
    "R"
   ]
  },
  {
   "cell_type": "markdown",
   "id": "88559f34",
   "metadata": {},
   "source": [
    "Vars_Indep = data['host_response_rate'] \n",
    "\n",
    "Var_Dep = data['host_total_listings_count']"
   ]
  },
  {
   "cell_type": "code",
   "execution_count": 53,
   "id": "dcefdfeb",
   "metadata": {},
   "outputs": [],
   "source": [
    "Vars_Indep = data['host_response_rate'] \n",
    "Var_Dep = data['host_total_listings_count']\n",
    "x= Vars_Indep\n",
    "y= Var_Dep"
   ]
  },
  {
   "cell_type": "code",
   "execution_count": 54,
   "id": "e0c0d2da",
   "metadata": {},
   "outputs": [],
   "source": [
    "def  func2 (x, a, b, c):\n",
    "    return a*np.exp(-b * x) + c"
   ]
  },
  {
   "cell_type": "code",
   "execution_count": 55,
   "id": "110b5df4",
   "metadata": {},
   "outputs": [
    {
     "name": "stderr",
     "output_type": "stream",
     "text": [
      "C:\\Users\\B_3mi\\AppData\\Local\\Temp\\ipykernel_15436\\1187629963.py:1: OptimizeWarning: Covariance of the parameters could not be estimated\n",
      "  parametros2, covs= curve_fit(func2, x, y)\n"
     ]
    },
    {
     "data": {
      "text/plain": [
       "array([ -145.29511056, 24683.36915175,   149.58214759])"
      ]
     },
     "execution_count": 55,
     "metadata": {},
     "output_type": "execute_result"
    }
   ],
   "source": [
    "parametros2, covs= curve_fit(func2, x, y)\n",
    "parametros2"
   ]
  },
  {
   "cell_type": "code",
   "execution_count": 56,
   "id": "0288cbe9",
   "metadata": {},
   "outputs": [
    {
     "data": {
      "text/plain": [
       "0       149.582148\n",
       "1       149.582148\n",
       "2       149.582148\n",
       "3       149.582148\n",
       "4       149.582148\n",
       "           ...    \n",
       "6713    149.582148\n",
       "6714    149.582148\n",
       "6715    149.582148\n",
       "6716    149.582148\n",
       "6717    149.582148\n",
       "Name: host_response_rate, Length: 6718, dtype: float64"
      ]
     },
     "execution_count": 56,
     "metadata": {},
     "output_type": "execute_result"
    }
   ],
   "source": [
    "y_pred2 = func2(x, *parametros2)\n",
    "y_pred2"
   ]
  },
  {
   "cell_type": "code",
   "execution_count": 57,
   "id": "57d8f32e",
   "metadata": {},
   "outputs": [
    {
     "data": {
      "image/png": "[encoded data removed]",
      "text/plain": [
       "<Figure size 640x480 with 1 Axes>"
      ]
     },
     "metadata": {},
     "output_type": "display_data"
    }
   ],
   "source": [
    "#Graficamos las predicciones y los datos originales para realizar la comparación\n",
    "plt.plot(x, y, 'bo', label=\"y-original\")\n",
    "plt.plot(x, y_pred2, label=\"y-predecida con y=a*exp(-b * x) + c\")\n",
    "plt.xlabel('x')\n",
    "plt.ylabel('y')\n",
    "plt.legend(loc='best', fancybox=True, shadow=True)\n",
    "plt.grid(True)\n",
    "plt.show() "
   ]
  },
  {
   "cell_type": "code",
   "execution_count": 58,
   "id": "a83103f5",
   "metadata": {},
   "outputs": [
    {
     "data": {
      "text/plain": [
       "0.008659273245723464"
      ]
     },
     "execution_count": 58,
     "metadata": {},
     "output_type": "execute_result"
    }
   ],
   "source": [
    "#Calculamos el coeficiente de determinación del modelo\n",
    "R2_Modelo2 = r2_score(y, y_pred2) \n",
    "R2_Modelo2"
   ]
  },
  {
   "cell_type": "code",
   "execution_count": 59,
   "id": "6f7cc492",
   "metadata": {},
   "outputs": [
    {
     "data": {
      "text/plain": [
       "np.float64(0.09305521611238923)"
      ]
     },
     "execution_count": 59,
     "metadata": {},
     "output_type": "execute_result"
    }
   ],
   "source": [
    "#Calculamos el coeficiente de correlación del modelo\n",
    "R = np.sqrt(R2_Modelo2)\n",
    "R"
   ]
  },
  {
   "cell_type": "markdown",
   "id": "85b55c35",
   "metadata": {},
   "source": [
    "Vars_Indep = data['host_response_rate'] \n",
    "\n",
    "Var_Dep = data['accommodates']"
   ]
  },
  {
   "cell_type": "code",
   "execution_count": 60,
   "id": "2ba94a11",
   "metadata": {},
   "outputs": [],
   "source": [
    "Vars_Indep = data['host_response_rate'] \n",
    "Var_Dep = data['accommodates']\n",
    "x= Vars_Indep\n",
    "y= Var_Dep"
   ]
  },
  {
   "cell_type": "code",
   "execution_count": 61,
   "id": "65f4615d",
   "metadata": {},
   "outputs": [],
   "source": [
    "def  func2 (x, a, b, c):\n",
    "    return a*np.exp(-b * x) + c"
   ]
  },
  {
   "cell_type": "code",
   "execution_count": 62,
   "id": "c6055803",
   "metadata": {},
   "outputs": [
    {
     "name": "stderr",
     "output_type": "stream",
     "text": [
      "C:\\Users\\B_3mi\\AppData\\Local\\Temp\\ipykernel_15436\\1187629963.py:1: OptimizeWarning: Covariance of the parameters could not be estimated\n",
      "  parametros2, covs= curve_fit(func2, x, y)\n"
     ]
    },
    {
     "data": {
      "text/plain": [
       "array([2.32574061e-01, 2.75452294e+02, 2.55446293e+00])"
      ]
     },
     "execution_count": 62,
     "metadata": {},
     "output_type": "execute_result"
    }
   ],
   "source": [
    "parametros2, covs= curve_fit(func2, x, y)\n",
    "parametros2"
   ]
  },
  {
   "cell_type": "code",
   "execution_count": 63,
   "id": "b547bb1f",
   "metadata": {},
   "outputs": [
    {
     "data": {
      "text/plain": [
       "0       2.554463\n",
       "1       2.554463\n",
       "2       2.554463\n",
       "3       2.554463\n",
       "4       2.554463\n",
       "          ...   \n",
       "6713    2.554463\n",
       "6714    2.554463\n",
       "6715    2.554463\n",
       "6716    2.554463\n",
       "6717    2.554463\n",
       "Name: host_response_rate, Length: 6718, dtype: float64"
      ]
     },
     "execution_count": 63,
     "metadata": {},
     "output_type": "execute_result"
    }
   ],
   "source": [
    "y_pred2 = func2(x, *parametros2)\n",
    "y_pred2"
   ]
  },
  {
   "cell_type": "code",
   "execution_count": 64,
   "id": "0ab7aeda",
   "metadata": {},
   "outputs": [
    {
     "data": {
      "image/png": "[encoded data removed]",
      "text/plain": [
       "<Figure size 640x480 with 1 Axes>"
      ]
     },
     "metadata": {},
     "output_type": "display_data"
    }
   ],
   "source": [
    "#Graficamos las predicciones y los datos originales para realizar la comparación\n",
    "plt.plot(x, y, 'bo', label=\"y-original\")\n",
    "plt.plot(x, y_pred2, label=\"y-predecida con y=a*exp(-b * x) + c\")\n",
    "plt.xlabel('x')\n",
    "plt.ylabel('y')\n",
    "plt.legend(loc='best', fancybox=True, shadow=True)\n",
    "plt.grid(True)\n",
    "plt.show() "
   ]
  },
  {
   "cell_type": "code",
   "execution_count": 65,
   "id": "c7139862",
   "metadata": {},
   "outputs": [
    {
     "data": {
      "text/plain": [
       "0.00021430737431182845"
      ]
     },
     "execution_count": 65,
     "metadata": {},
     "output_type": "execute_result"
    }
   ],
   "source": [
    "#Calculamos el coeficiente de determinación del modelo\n",
    "R2_Modelo2 = r2_score(y, y_pred2) \n",
    "R2_Modelo2"
   ]
  },
  {
   "cell_type": "code",
   "execution_count": 66,
   "id": "0658be7e",
   "metadata": {},
   "outputs": [
    {
     "data": {
      "text/plain": [
       "np.float64(0.014639240906270667)"
      ]
     },
     "execution_count": 66,
     "metadata": {},
     "output_type": "execute_result"
    }
   ],
   "source": [
    "#Calculamos el coeficiente de correlación del modelo\n",
    "R = np.sqrt(R2_Modelo2)\n",
    "R"
   ]
  },
  {
   "cell_type": "markdown",
   "id": "f46b39b9",
   "metadata": {},
   "source": [
    "Vars_Indep = data['host_response_rate'] \n",
    "\n",
    "Var_Dep = data['reviews_per_month']"
   ]
  },
  {
   "cell_type": "code",
   "execution_count": 67,
   "id": "002c76a7",
   "metadata": {},
   "outputs": [],
   "source": [
    "Vars_Indep = data['host_response_rate'] \n",
    "Var_Dep = data['reviews_per_month']\n",
    "x= Vars_Indep\n",
    "y= Var_Dep"
   ]
  },
  {
   "cell_type": "code",
   "execution_count": 68,
   "id": "aa5666ca",
   "metadata": {},
   "outputs": [],
   "source": [
    "def  func2 (x, a, b, c):\n",
    "    return a*np.exp(-b * x) + c"
   ]
  },
  {
   "cell_type": "code",
   "execution_count": 69,
   "id": "296cc4d1",
   "metadata": {},
   "outputs": [
    {
     "name": "stderr",
     "output_type": "stream",
     "text": [
      "C:\\Users\\B_3mi\\AppData\\Local\\Temp\\ipykernel_15436\\1187629963.py:1: OptimizeWarning: Covariance of the parameters could not be estimated\n",
      "  parametros2, covs= curve_fit(func2, x, y)\n"
     ]
    },
    {
     "data": {
      "text/plain": [
       "array([-0.27895786, 30.67017176,  0.88025416])"
      ]
     },
     "execution_count": 69,
     "metadata": {},
     "output_type": "execute_result"
    }
   ],
   "source": [
    "parametros2, covs= curve_fit(func2, x, y)\n",
    "parametros2"
   ]
  },
  {
   "cell_type": "code",
   "execution_count": 70,
   "id": "a8b2cfb4",
   "metadata": {},
   "outputs": [
    {
     "data": {
      "text/plain": [
       "0       0.880254\n",
       "1       0.880254\n",
       "2       0.880254\n",
       "3       0.880254\n",
       "4       0.880254\n",
       "          ...   \n",
       "6713    0.880254\n",
       "6714    0.880254\n",
       "6715    0.880254\n",
       "6716    0.880254\n",
       "6717    0.880254\n",
       "Name: host_response_rate, Length: 6718, dtype: float64"
      ]
     },
     "execution_count": 70,
     "metadata": {},
     "output_type": "execute_result"
    }
   ],
   "source": [
    "y_pred2 = func2(x, *parametros2)\n",
    "y_pred2"
   ]
  },
  {
   "cell_type": "code",
   "execution_count": 71,
   "id": "506df3af",
   "metadata": {},
   "outputs": [
    {
     "data": {
      "image/png": "[encoded data removed]",
      "text/plain": [
       "<Figure size 640x480 with 1 Axes>"
      ]
     },
     "metadata": {},
     "output_type": "display_data"
    }
   ],
   "source": [
    "#Graficamos las predicciones y los datos originales para realizar la comparación\n",
    "plt.plot(x, y, 'bo', label=\"y-original\")\n",
    "plt.plot(x, y_pred2, label=\"y-predecida con y=a*exp(-b * x) + c\")\n",
    "plt.xlabel('x')\n",
    "plt.ylabel('y')\n",
    "plt.legend(loc='best', fancybox=True, shadow=True)\n",
    "plt.grid(True)\n",
    "plt.show() "
   ]
  },
  {
   "cell_type": "code",
   "execution_count": 72,
   "id": "a59cfe10",
   "metadata": {},
   "outputs": [
    {
     "data": {
      "text/plain": [
       "0.002128642213983789"
      ]
     },
     "execution_count": 72,
     "metadata": {},
     "output_type": "execute_result"
    }
   ],
   "source": [
    "#Calculamos el coeficiente de determinación del modelo\n",
    "R2_Modelo2 = r2_score(y, y_pred2) \n",
    "R2_Modelo2"
   ]
  },
  {
   "cell_type": "code",
   "execution_count": 73,
   "id": "04b608f4",
   "metadata": {},
   "outputs": [
    {
     "data": {
      "text/plain": [
       "np.float64(0.04613721073042657)"
      ]
     },
     "execution_count": 73,
     "metadata": {},
     "output_type": "execute_result"
    }
   ],
   "source": [
    "#Calculamos el coeficiente de correlación del modelo\n",
    "R = np.sqrt(R2_Modelo2)\n",
    "R"
   ]
  },
  {
   "cell_type": "markdown",
   "id": "2b2010af",
   "metadata": {},
   "source": [
    "Vars_Indep = data['host_response_rate'] \n",
    "\n",
    "Var_Dep = data['price']"
   ]
  },
  {
   "cell_type": "code",
   "execution_count": 74,
   "id": "6c4fe247",
   "metadata": {},
   "outputs": [],
   "source": [
    "Vars_Indep = data['host_response_rate'] \n",
    "Var_Dep = data['price']\n",
    "x= Vars_Indep\n",
    "y= Var_Dep"
   ]
  },
  {
   "cell_type": "code",
   "execution_count": 75,
   "id": "1feaa629",
   "metadata": {},
   "outputs": [],
   "source": [
    "def  func2 (x, a, b, c):\n",
    "    return a*np.exp(-b * x) + c"
   ]
  },
  {
   "cell_type": "code",
   "execution_count": 76,
   "id": "af718efa",
   "metadata": {},
   "outputs": [
    {
     "data": {
      "text/plain": [
       "array([ 3.42378285e-01, -5.74957284e+01,  3.20158805e+03])"
      ]
     },
     "execution_count": 76,
     "metadata": {},
     "output_type": "execute_result"
    }
   ],
   "source": [
    "parametros2, covs= curve_fit(func1, x, y, maxfev=10000)\n",
    "parametros2"
   ]
  },
  {
   "cell_type": "code",
   "execution_count": 77,
   "id": "e57d4755",
   "metadata": {},
   "outputs": [
    {
     "name": "stderr",
     "output_type": "stream",
     "text": [
      "c:\\Users\\B_3mi\\AppData\\Local\\Programs\\Python\\Python313\\Lib\\site-packages\\pandas\\core\\arraylike.py:399: RuntimeWarning: overflow encountered in exp\n",
      "  result = getattr(ufunc, method)(*inputs, **kwargs)\n"
     ]
    },
    {
     "data": {
      "text/plain": [
       "0       inf\n",
       "1       inf\n",
       "2       inf\n",
       "3       inf\n",
       "4       inf\n",
       "       ... \n",
       "6713    inf\n",
       "6714    inf\n",
       "6715    inf\n",
       "6716    inf\n",
       "6717    inf\n",
       "Name: host_response_rate, Length: 6718, dtype: float64"
      ]
     },
     "execution_count": 77,
     "metadata": {},
     "output_type": "execute_result"
    }
   ],
   "source": [
    "y_pred2 = func2(x, *parametros2)\n",
    "y_pred2"
   ]
  },
  {
   "cell_type": "code",
   "execution_count": 78,
   "id": "b301250d",
   "metadata": {},
   "outputs": [
    {
     "data": {
      "image/png": "[encoded data removed]",
      "text/plain": [
       "<Figure size 640x480 with 1 Axes>"
      ]
     },
     "metadata": {},
     "output_type": "display_data"
    }
   ],
   "source": [
    "#Graficamos las predicciones y los datos originales para realizar la comparación\n",
    "plt.plot(x, y, 'bo', label=\"y-original\")\n",
    "plt.plot(x, y_pred2, label=\"y-predecida con y=a*exp(-b * x) + c\")\n",
    "plt.xlabel('x')\n",
    "plt.ylabel('y')\n",
    "plt.legend(loc='best', fancybox=True, shadow=True)\n",
    "plt.grid(True)\n",
    "plt.show() "
   ]
  },
  {
   "cell_type": "code",
   "execution_count": 79,
   "id": "a6d6191d",
   "metadata": {},
   "outputs": [],
   "source": [
    "#R2_Modelo2 = r2_score(y, y_pred2) \n",
    "#R2_Modelo2"
   ]
  },
  {
   "cell_type": "code",
   "execution_count": 80,
   "id": "8f9315df",
   "metadata": {},
   "outputs": [],
   "source": [
    "#Calculamos el coeficiente de correlación del modelo\n",
    "#R = np.sqrt(R2_Modelo2)\n",
    "#R"
   ]
  },
  {
   "cell_type": "markdown",
   "id": "5d354e5b",
   "metadata": {},
   "source": [
    "## Realizar una tabla de todos los coeficientes de determinación y correlación obtenidos"
   ]
  },
  {
   "cell_type": "code",
   "execution_count": 81,
   "id": "d97756d9",
   "metadata": {},
   "outputs": [
    {
     "data": {
      "text/html": [
       "<div>\n",
       "<style scoped>\n",
       "    .dataframe tbody tr th:only-of-type {\n",
       "        vertical-align: middle;\n",
       "    }\n",
       "\n",
       "    .dataframe tbody tr th {\n",
       "        vertical-align: top;\n",
       "    }\n",
       "\n",
       "    .dataframe thead th {\n",
       "        text-align: right;\n",
       "    }\n",
       "</style>\n",
       "<table border=\"1\" class=\"dataframe\">\n",
       "  <thead>\n",
       "    <tr style=\"text-align: right;\">\n",
       "      <th></th>\n",
       "      <th>host_response_rate</th>\n",
       "      <th>host_acceptance_rate</th>\n",
       "      <th>host_total_listings_count</th>\n",
       "      <th>accommodates</th>\n",
       "      <th>reviews_per_month</th>\n",
       "      <th>price</th>\n",
       "    </tr>\n",
       "  </thead>\n",
       "  <tbody>\n",
       "    <tr>\n",
       "      <th>host_response_rate</th>\n",
       "      <td>1.000000</td>\n",
       "      <td>0.282345</td>\n",
       "      <td>0.106019</td>\n",
       "      <td>-0.013349</td>\n",
       "      <td>0.093151</td>\n",
       "      <td>-0.098148</td>\n",
       "    </tr>\n",
       "    <tr>\n",
       "      <th>host_acceptance_rate</th>\n",
       "      <td>0.282345</td>\n",
       "      <td>1.000000</td>\n",
       "      <td>-0.531262</td>\n",
       "      <td>0.211642</td>\n",
       "      <td>0.157348</td>\n",
       "      <td>0.040872</td>\n",
       "    </tr>\n",
       "    <tr>\n",
       "      <th>host_total_listings_count</th>\n",
       "      <td>0.106019</td>\n",
       "      <td>-0.531262</td>\n",
       "      <td>1.000000</td>\n",
       "      <td>-0.290847</td>\n",
       "      <td>-0.058211</td>\n",
       "      <td>-0.095855</td>\n",
       "    </tr>\n",
       "    <tr>\n",
       "      <th>accommodates</th>\n",
       "      <td>-0.013349</td>\n",
       "      <td>0.211642</td>\n",
       "      <td>-0.290847</td>\n",
       "      <td>1.000000</td>\n",
       "      <td>0.137191</td>\n",
       "      <td>0.230498</td>\n",
       "    </tr>\n",
       "    <tr>\n",
       "      <th>reviews_per_month</th>\n",
       "      <td>0.093151</td>\n",
       "      <td>0.157348</td>\n",
       "      <td>-0.058211</td>\n",
       "      <td>0.137191</td>\n",
       "      <td>1.000000</td>\n",
       "      <td>-0.003417</td>\n",
       "    </tr>\n",
       "    <tr>\n",
       "      <th>price</th>\n",
       "      <td>-0.098148</td>\n",
       "      <td>0.040872</td>\n",
       "      <td>-0.095855</td>\n",
       "      <td>0.230498</td>\n",
       "      <td>-0.003417</td>\n",
       "      <td>1.000000</td>\n",
       "    </tr>\n",
       "  </tbody>\n",
       "</table>\n",
       "</div>"
      ],
      "text/plain": [
       "                           host_response_rate  host_acceptance_rate  \\\n",
       "host_response_rate                   1.000000              0.282345   \n",
       "host_acceptance_rate                 0.282345              1.000000   \n",
       "host_total_listings_count            0.106019             -0.531262   \n",
       "accommodates                        -0.013349              0.211642   \n",
       "reviews_per_month                    0.093151              0.157348   \n",
       "price                               -0.098148              0.040872   \n",
       "\n",
       "                           host_total_listings_count  accommodates  \\\n",
       "host_response_rate                          0.106019     -0.013349   \n",
       "host_acceptance_rate                       -0.531262      0.211642   \n",
       "host_total_listings_count                   1.000000     -0.290847   \n",
       "accommodates                               -0.290847      1.000000   \n",
       "reviews_per_month                          -0.058211      0.137191   \n",
       "price                                      -0.095855      0.230498   \n",
       "\n",
       "                           reviews_per_month     price  \n",
       "host_response_rate                  0.093151 -0.098148  \n",
       "host_acceptance_rate                0.157348  0.040872  \n",
       "host_total_listings_count          -0.058211 -0.095855  \n",
       "accommodates                        0.137191  0.230498  \n",
       "reviews_per_month                   1.000000 -0.003417  \n",
       "price                              -0.003417  1.000000  "
      ]
     },
     "execution_count": 81,
     "metadata": {},
     "output_type": "execute_result"
    }
   ],
   "source": [
    "correlaciones = [\"host_response_rate\", \"host_acceptance_rate\", \"host_total_listings_count\", \"accommodates\", \"reviews_per_month\", \"price\"]  # Cambia por las columnas que necesites\n",
    "df_numeric = data[correlaciones]\n",
    "matriz_corr = df_numeric.corr()\n",
    "\n",
    "matriz_corr"
   ]
  },
  {
   "cell_type": "code",
   "execution_count": 82,
   "id": "91abf125",
   "metadata": {},
   "outputs": [
    {
     "data": {
      "text/plain": [
       "<Axes: >"
      ]
     },
     "execution_count": 82,
     "metadata": {},
     "output_type": "execute_result"
    },
    {
     "data": {
      "image/png": "[encoded data removed]",
      "text/plain": [
       "<Figure size 640x480 with 2 Axes>"
      ]
     },
     "metadata": {},
     "output_type": "display_data"
    }
   ],
   "source": [
    "Corr_Factors1=abs(matriz_corr)\n",
    "Heat_Map=sns.heatmap(Corr_Factors1,cmap=\"YlGnBu\",annot=True,fmt=\".2f\")\n",
    "Heat_Map"
   ]
  }
 ],
 "metadata": {
  "kernelspec": {
   "display_name": "Python 3",
   "language": "python",
   "name": "python3"
  },
  "language_info": {
   "codemirror_mode": {
    "name": "ipython",
    "version": 3
   },
   "file_extension": ".py",
   "mimetype": "text/x-python",
   "name": "python",
   "nbconvert_exporter": "python",
   "pygments_lexer": "ipython3",
   "version": "3.13.2"
  }
 },
 "nbformat": 4,
 "nbformat_minor": 5
}
